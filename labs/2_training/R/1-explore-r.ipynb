{
  "cells": [
    {
      "cell_type": "markdown",
      "source": [
        "## Azure Machine Learning and R"
      ],
      "metadata": {}
    },
    {
      "cell_type": "code",
      "source": [
        "library(azuremlsdk)\n",
        "library(data.table)\n",
        "library(ggplot2)"
      ],
      "outputs": [],
      "execution_count": null,
      "metadata": {}
    },
    {
      "cell_type": "markdown",
      "source": [
        "### Load the workspace"
      ],
      "metadata": {}
    },
    {
      "cell_type": "code",
      "source": [
        "ws = load_workspace_from_config()"
      ],
      "outputs": [],
      "execution_count": null,
      "metadata": {}
    },
    {
      "cell_type": "markdown",
      "source": [
        "### Retrieve the Attrition Dataset from the workspace"
      ],
      "metadata": {}
    },
    {
      "cell_type": "markdown",
      "source": [
        "See the registered datasets in your workspace:"
      ],
      "metadata": {}
    },
    {
      "cell_type": "code",
      "source": [
        "datasets = ws$datasets\n",
        "print(datasets)"
      ],
      "outputs": [],
      "execution_count": null,
      "metadata": {}
    },
    {
      "cell_type": "markdown",
      "source": [
        "Retrieve the attrition dataset:"
      ],
      "metadata": {}
    },
    {
      "cell_type": "code",
      "source": [
        "attrition = get_dataset_by_name(ws, name = \"IBM-Employee-Attrition\")\n",
        "print(attrition)"
      ],
      "outputs": [],
      "execution_count": null,
      "metadata": {}
    },
    {
      "cell_type": "markdown",
      "source": [
        "### Derive a FileDataset from the attrition dataset, mount it and load the data into a data.table\n",
        "Since the original attrition dataset created for the workshop is a `TabularDataset`, we can derive a `FileDataset` from the dataset to mount it and load the data into a data.table."
      ],
      "metadata": {}
    },
    {
      "cell_type": "code",
      "source": [
        "# Derive a FileDataset from the attrition dataset\n",
        "attrition_fds = convert_to_dataset_with_csv_files(attrition)\n",
        "\n",
        "# Create a context manager to manage the lifecycle of the mount\n",
        "mc = attrition_fds$mount() \n",
        "\n",
        "# Enter the context manager to mount\n",
        "mc$start()\n",
        "\n",
        "# Load the data into a data.table\n",
        "csv_file = paste(mc$mount_point, 'part-00000', sep = '/')\n",
        "df = fread(file=csv_file)\n",
        "\n",
        "# Exit from the context manager to unmount\n",
        "mc$stop()"
      ],
      "outputs": [],
      "execution_count": null,
      "metadata": {}
    },
    {
      "cell_type": "markdown",
      "source": [
        "### Do some nice plots with ggplot"
      ],
      "metadata": {}
    },
    {
      "cell_type": "code",
      "source": [
        "gg <- ggplot(df, aes(x=Age, y=MonthlyIncome))\n",
        "gg = gg + geom_point(size=0.5, color='steelblue') \n",
        "gg = gg + geom_smooth(aes())\n",
        "gg = gg + facet_grid(Department ~ Attrition) \n",
        "gg"
      ],
      "outputs": [],
      "execution_count": null,
      "metadata": {}
    }
  ],
  "metadata": {
    "kernelspec": {
      "name": "ir",
      "language": "R",
      "display_name": "R"
    },
    "language_info": {
      "name": "R",
      "codemirror_mode": "r",
      "pygments_lexer": "r",
      "mimetype": "text/x-r-source",
      "file_extension": ".r",
      "version": "3.6.3"
    },
    "kernel_info": {
      "name": "ir"
    },
    "nteract": {
      "version": "nteract-front-end@1.0.0"
    }
  },
  "nbformat": 4,
  "nbformat_minor": 2
}