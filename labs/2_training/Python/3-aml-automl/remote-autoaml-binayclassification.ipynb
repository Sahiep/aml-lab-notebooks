{
  "cells": [
    {
      "cell_type": "markdown",
      "source": [
        "# AutoML Classification experiment using Remote-AML-Compute and AML-Datasets\n",
        "## Data: German credit dataset loaded from Azure ML Dataset"
      ],
      "metadata": {}
    },
    {
      "cell_type": "markdown",
      "source": [
        "##  Get Azure ML Workspace to use"
      ],
      "metadata": {}
    },
    {
      "cell_type": "code",
      "source": [
        "import logging\n",
        "\n",
        "from matplotlib import pyplot as plt\n",
        "import pandas as pd\n",
        "import os\n",
        "\n",
        "import azureml.core\n",
        "from azureml.core.experiment import Experiment\n",
        "from azureml.core.workspace import Workspace\n",
        "from azureml.core.dataset import Dataset\n",
        "from azureml.train.automl import AutoMLConfig"
      ],
      "outputs": [],
      "execution_count": 2,
      "metadata": {}
    },
    {
      "cell_type": "code",
      "source": [
        "ws = Workspace.from_config()\n",
        "output = {}\n",
        "output['Subscription ID'] = ws.subscription_id\n",
        "output['Workspace'] = ws.name\n",
        "output['Resource Group'] = ws.resource_group\n",
        "output['Location'] = ws.location\n",
        "pd.set_option('display.max_colwidth', -1)\n",
        "outputDf = pd.DataFrame(data = output, index = [''])\n",
        "outputDf.T"
      ],
      "outputs": [
        {
          "output_type": "execute_result",
          "execution_count": 3,
          "data": {
            "text/html": "<div>\n<style scoped>\n    .dataframe tbody tr th:only-of-type {\n        vertical-align: middle;\n    }\n\n    .dataframe tbody tr th {\n        vertical-align: top;\n    }\n\n    .dataframe thead th {\n        text-align: right;\n    }\n</style>\n<table border=\"1\" class=\"dataframe\">\n  <thead>\n    <tr style=\"text-align: right;\">\n      <th></th>\n      <th></th>\n    </tr>\n  </thead>\n  <tbody>\n    <tr>\n      <th>Subscription ID</th>\n      <td>7d48758f-d40b-4252-854c-e7d8f2ed7645</td>\n    </tr>\n    <tr>\n      <th>Workspace</th>\n      <td>amlworkspacesahiep2141</td>\n    </tr>\n    <tr>\n      <th>Resource Group</th>\n      <td>MCW_Synapse</td>\n    </tr>\n    <tr>\n      <th>Location</th>\n      <td>westeurope</td>\n    </tr>\n  </tbody>\n</table>\n</div>",
            "text/plain": "                                                     \nSubscription ID  7d48758f-d40b-4252-854c-e7d8f2ed7645\nWorkspace        amlworkspacesahiep2141              \nResource Group   MCW_Synapse                         \nLocation         westeurope                          "
          },
          "metadata": {}
        }
      ],
      "execution_count": 3,
      "metadata": {}
    },
    {
      "cell_type": "markdown",
      "source": [
        "## Load data from Azure ML Datasets \n",
        "Pandas DataFrame only used to check out the data"
      ],
      "metadata": {}
    },
    {
      "cell_type": "code",
      "source": [
        "# Load Data\n",
        "aml_dataset = ws.datasets['german-credit']\n",
        "# Use Pandas DataFrame just to sneak peak some data and schema\n",
        "df = aml_dataset.to_pandas_dataframe()\n",
        "# .to_pandas_dataframe().dropna()\n",
        "df.head(5)"
      ],
      "outputs": [
        {
          "output_type": "execute_result",
          "execution_count": 4,
          "data": {
            "text/html": "<div>\n<style scoped>\n    .dataframe tbody tr th:only-of-type {\n        vertical-align: middle;\n    }\n\n    .dataframe tbody tr th {\n        vertical-align: top;\n    }\n\n    .dataframe thead th {\n        text-align: right;\n    }\n</style>\n<table border=\"1\" class=\"dataframe\">\n  <thead>\n    <tr style=\"text-align: right;\">\n      <th></th>\n      <th>Sno</th>\n      <th>Age</th>\n      <th>Sex</th>\n      <th>Job</th>\n      <th>Housing</th>\n      <th>Saving accounts</th>\n      <th>Checking account</th>\n      <th>Credit amount</th>\n      <th>Duration</th>\n      <th>Purpose</th>\n      <th>Risk</th>\n    </tr>\n  </thead>\n  <tbody>\n    <tr>\n      <th>0</th>\n      <td>0</td>\n      <td>67</td>\n      <td>male</td>\n      <td>2</td>\n      <td>own</td>\n      <td>NA</td>\n      <td>little</td>\n      <td>1169</td>\n      <td>6</td>\n      <td>radio/TV</td>\n      <td>good</td>\n    </tr>\n    <tr>\n      <th>1</th>\n      <td>1</td>\n      <td>22</td>\n      <td>female</td>\n      <td>2</td>\n      <td>own</td>\n      <td>little</td>\n      <td>moderate</td>\n      <td>5951</td>\n      <td>48</td>\n      <td>radio/TV</td>\n      <td>bad</td>\n    </tr>\n    <tr>\n      <th>2</th>\n      <td>2</td>\n      <td>49</td>\n      <td>male</td>\n      <td>1</td>\n      <td>own</td>\n      <td>little</td>\n      <td>NA</td>\n      <td>2096</td>\n      <td>12</td>\n      <td>education</td>\n      <td>good</td>\n    </tr>\n    <tr>\n      <th>3</th>\n      <td>3</td>\n      <td>45</td>\n      <td>male</td>\n      <td>2</td>\n      <td>free</td>\n      <td>little</td>\n      <td>little</td>\n      <td>7882</td>\n      <td>42</td>\n      <td>furniture/equipment</td>\n      <td>good</td>\n    </tr>\n    <tr>\n      <th>4</th>\n      <td>4</td>\n      <td>53</td>\n      <td>male</td>\n      <td>2</td>\n      <td>free</td>\n      <td>little</td>\n      <td>little</td>\n      <td>4870</td>\n      <td>24</td>\n      <td>car</td>\n      <td>bad</td>\n    </tr>\n  </tbody>\n</table>\n</div>",
            "text/plain": "   Sno  Age     Sex  Job Housing Saving accounts Checking account  \\\n0  0    67   male    2    own     NA              little            \n1  1    22   female  2    own     little          moderate          \n2  2    49   male    1    own     little          NA                \n3  3    45   male    2    free    little          little            \n4  4    53   male    2    free    little          little            \n\n   Credit amount  Duration              Purpose  Risk  \n0  1169           6         radio/TV             good  \n1  5951           48        radio/TV             bad   \n2  2096           12        education            good  \n3  7882           42        furniture/equipment  good  \n4  4870           24        car                  bad   "
          },
          "metadata": {}
        }
      ],
      "execution_count": 4,
      "metadata": {}
    },
    {
      "cell_type": "code",
      "source": [
        "# Use Pandas DataFrame just to investigate the dataset's schema and info\n",
        "df.describe()"
      ],
      "outputs": [
        {
          "output_type": "execute_result",
          "execution_count": 5,
          "data": {
            "text/html": "<div>\n<style scoped>\n    .dataframe tbody tr th:only-of-type {\n        vertical-align: middle;\n    }\n\n    .dataframe tbody tr th {\n        vertical-align: top;\n    }\n\n    .dataframe thead th {\n        text-align: right;\n    }\n</style>\n<table border=\"1\" class=\"dataframe\">\n  <thead>\n    <tr style=\"text-align: right;\">\n      <th></th>\n      <th>Sno</th>\n      <th>Age</th>\n      <th>Job</th>\n      <th>Credit amount</th>\n      <th>Duration</th>\n    </tr>\n  </thead>\n  <tbody>\n    <tr>\n      <th>count</th>\n      <td>1000.000000</td>\n      <td>1000.000000</td>\n      <td>1000.000000</td>\n      <td>1000.000000</td>\n      <td>1000.000000</td>\n    </tr>\n    <tr>\n      <th>mean</th>\n      <td>499.500000</td>\n      <td>35.546000</td>\n      <td>1.904000</td>\n      <td>3271.258000</td>\n      <td>20.903000</td>\n    </tr>\n    <tr>\n      <th>std</th>\n      <td>288.819436</td>\n      <td>11.375469</td>\n      <td>0.653614</td>\n      <td>2822.736876</td>\n      <td>12.058814</td>\n    </tr>\n    <tr>\n      <th>min</th>\n      <td>0.000000</td>\n      <td>19.000000</td>\n      <td>0.000000</td>\n      <td>250.000000</td>\n      <td>4.000000</td>\n    </tr>\n    <tr>\n      <th>25%</th>\n      <td>249.750000</td>\n      <td>27.000000</td>\n      <td>2.000000</td>\n      <td>1365.500000</td>\n      <td>12.000000</td>\n    </tr>\n    <tr>\n      <th>50%</th>\n      <td>499.500000</td>\n      <td>33.000000</td>\n      <td>2.000000</td>\n      <td>2319.500000</td>\n      <td>18.000000</td>\n    </tr>\n    <tr>\n      <th>75%</th>\n      <td>749.250000</td>\n      <td>42.000000</td>\n      <td>2.000000</td>\n      <td>3972.250000</td>\n      <td>24.000000</td>\n    </tr>\n    <tr>\n      <th>max</th>\n      <td>999.000000</td>\n      <td>75.000000</td>\n      <td>3.000000</td>\n      <td>18424.000000</td>\n      <td>72.000000</td>\n    </tr>\n  </tbody>\n</table>\n</div>",
            "text/plain": "               Sno          Age          Job  Credit amount     Duration\ncount  1000.000000  1000.000000  1000.000000  1000.000000    1000.000000\nmean   499.500000   35.546000    1.904000     3271.258000    20.903000  \nstd    288.819436   11.375469    0.653614     2822.736876    12.058814  \nmin    0.000000     19.000000    0.000000     250.000000     4.000000   \n25%    249.750000   27.000000    2.000000     1365.500000    12.000000  \n50%    499.500000   33.000000    2.000000     2319.500000    18.000000  \n75%    749.250000   42.000000    2.000000     3972.250000    24.000000  \nmax    999.000000   75.000000    3.000000     18424.000000   72.000000  "
          },
          "metadata": {}
        }
      ],
      "execution_count": 5,
      "metadata": {}
    },
    {
      "cell_type": "markdown",
      "source": [
        "## Clean up the initial dataset \n",
        "#### (Using AML Tabular Dataset .drop_columns() method )"
      ],
      "metadata": {}
    },
    {
      "cell_type": "code",
      "source": [
        "# Dropping Sno column since it is merely an identifier\n",
        "aml_dataset = aml_dataset.drop_columns(['Sno'])\n",
        "df = aml_dataset.to_pandas_dataframe()\n",
        "df.describe()"
      ],
      "outputs": [
        {
          "output_type": "execute_result",
          "execution_count": 6,
          "data": {
            "text/html": "<div>\n<style scoped>\n    .dataframe tbody tr th:only-of-type {\n        vertical-align: middle;\n    }\n\n    .dataframe tbody tr th {\n        vertical-align: top;\n    }\n\n    .dataframe thead th {\n        text-align: right;\n    }\n</style>\n<table border=\"1\" class=\"dataframe\">\n  <thead>\n    <tr style=\"text-align: right;\">\n      <th></th>\n      <th>Age</th>\n      <th>Job</th>\n      <th>Credit amount</th>\n      <th>Duration</th>\n    </tr>\n  </thead>\n  <tbody>\n    <tr>\n      <th>count</th>\n      <td>1000.000000</td>\n      <td>1000.000000</td>\n      <td>1000.000000</td>\n      <td>1000.000000</td>\n    </tr>\n    <tr>\n      <th>mean</th>\n      <td>35.546000</td>\n      <td>1.904000</td>\n      <td>3271.258000</td>\n      <td>20.903000</td>\n    </tr>\n    <tr>\n      <th>std</th>\n      <td>11.375469</td>\n      <td>0.653614</td>\n      <td>2822.736876</td>\n      <td>12.058814</td>\n    </tr>\n    <tr>\n      <th>min</th>\n      <td>19.000000</td>\n      <td>0.000000</td>\n      <td>250.000000</td>\n      <td>4.000000</td>\n    </tr>\n    <tr>\n      <th>25%</th>\n      <td>27.000000</td>\n      <td>2.000000</td>\n      <td>1365.500000</td>\n      <td>12.000000</td>\n    </tr>\n    <tr>\n      <th>50%</th>\n      <td>33.000000</td>\n      <td>2.000000</td>\n      <td>2319.500000</td>\n      <td>18.000000</td>\n    </tr>\n    <tr>\n      <th>75%</th>\n      <td>42.000000</td>\n      <td>2.000000</td>\n      <td>3972.250000</td>\n      <td>24.000000</td>\n    </tr>\n    <tr>\n      <th>max</th>\n      <td>75.000000</td>\n      <td>3.000000</td>\n      <td>18424.000000</td>\n      <td>72.000000</td>\n    </tr>\n  </tbody>\n</table>\n</div>",
            "text/plain": "               Age          Job  Credit amount     Duration\ncount  1000.000000  1000.000000  1000.000000    1000.000000\nmean   35.546000    1.904000     3271.258000    20.903000  \nstd    11.375469    0.653614     2822.736876    12.058814  \nmin    19.000000    0.000000     250.000000     4.000000   \n25%    27.000000    2.000000     1365.500000    12.000000  \n50%    33.000000    2.000000     2319.500000    18.000000  \n75%    42.000000    2.000000     3972.250000    24.000000  \nmax    75.000000    3.000000     18424.000000   72.000000  "
          },
          "metadata": {}
        }
      ],
      "execution_count": 6,
      "metadata": {}
    },
    {
      "cell_type": "markdown",
      "source": [
        "## Split original AML Tabular Dataset in two test/train AML Tabular Datasets (using AML DS function)"
      ],
      "metadata": {}
    },
    {
      "cell_type": "code",
      "source": [
        "# Split using Azure Tabular Datasets\n",
        "# https://docs.microsoft.com/en-us/python/api/azureml-core/azureml.data.tabulardataset?view=azure-ml-py#random-split-percentage--seed-none-\n",
        "\n",
        "train_dataset, test_dataset = aml_dataset.random_split(0.9, seed=1)\n",
        "\n",
        "# Use Pandas DF only to check the data\n",
        "train_dataset_df = train_dataset.to_pandas_dataframe()\n",
        "test_dataset_df = test_dataset.to_pandas_dataframe()\n",
        "# print(train_dataset_df.describe())\n",
        "# print(test_dataset_df.describe())"
      ],
      "outputs": [],
      "execution_count": 7,
      "metadata": {}
    },
    {
      "cell_type": "markdown",
      "source": [
        "## List remote AML compute targets available"
      ],
      "metadata": {}
    },
    {
      "cell_type": "code",
      "source": [
        "from azureml.core.compute import ComputeTarget, AmlCompute\n",
        "from azureml.core.compute_target import ComputeTargetException\n",
        "\n",
        "# Choose a name for your CPU cluster\n",
        "cpu_cluster_name = \"cpu-cluster\"\n",
        "\n",
        "# Verify that cluster does not exist already\n",
        "try:\n",
        "    compute_target = ComputeTarget(workspace=ws, name=cpu_cluster_name)\n",
        "    print('Found existing cluster, use it.')\n",
        "except ComputeTargetException:\n",
        "    compute_config = AmlCompute.provisioning_configuration(vm_size='STANDARD_DS2_V2',\n",
        "                                                           max_nodes=2)\n",
        "    compute_target = ComputeTarget.create(ws, cpu_cluster_name, compute_config)\n",
        "\n",
        "compute_target.wait_for_completion(show_output=True)"
      ],
      "outputs": [
        {
          "output_type": "stream",
          "name": "stdout",
          "text": [
            "Found existing cluster, use it.\n",
            "Succeeded\n",
            "AmlCompute wait for completion finished\n",
            "\n",
            "Minimum number of nodes requested have been provisioned\n"
          ]
        }
      ],
      "execution_count": 8,
      "metadata": {}
    },
    {
      "cell_type": "markdown",
      "source": [
        "## List and select primary metric to drive the AutoML classification problem\n",
        "\n",
        "\n",
        "List of possible primary metrics is here:\n",
        "https://docs.microsoft.com/en-us/azure/machine-learning/how-to-configure-auto-train#primary-metric"
      ],
      "metadata": {}
    },
    {
      "cell_type": "code",
      "source": [
        "from azureml.train import automl\n",
        "\n",
        "# Get a list of valid metrics for your given task\n",
        "automl.utilities.get_primary_metrics('classification')"
      ],
      "outputs": [
        {
          "output_type": "execute_result",
          "execution_count": 9,
          "data": {
            "text/plain": "['precision_score_weighted',\n 'AUC_weighted',\n 'accuracy',\n 'average_precision_score_weighted',\n 'norm_macro_recall']"
          },
          "metadata": {}
        }
      ],
      "execution_count": 9,
      "metadata": {}
    },
    {
      "cell_type": "markdown",
      "source": [
        "## Define AutoML Experiment settings (With AML Remote Compute)"
      ],
      "metadata": {}
    },
    {
      "cell_type": "code",
      "source": [
        "automl_settings = {\n",
        "    \"n_cross_validations\": 5,\n",
        "    \"primary_metric\": 'accuracy',\n",
        "    \"enable_early_stopping\": True,\n",
        "    \"max_concurrent_iterations\": 2, # This is a limit for testing purpose, please increase it as per cluster size\n",
        "    \"experiment_timeout_hours\": 0.25, # This is a time limit for testing purposes, remove it for real use cases, this will drastically limit ablity to find the best model possible\n",
        "    \"verbosity\": logging.INFO,\n",
        "    \"featurization\": 'auto',\n",
        "}\n",
        "\n",
        "automl_config = AutoMLConfig(task = 'classification',\n",
        "                             debug_log = 'automl_errors.log',\n",
        "                             compute_target = compute_target,\n",
        "                             training_data = train_dataset,\n",
        "                             label_column_name = \"Risk\",\n",
        "                             **automl_settings\n",
        "                            )"
      ],
      "outputs": [],
      "execution_count": 10,
      "metadata": {}
    },
    {
      "cell_type": "markdown",
      "source": [
        "## Run Experiment (on AML Remote Compute) with multiple child runs under the covers"
      ],
      "metadata": {}
    },
    {
      "cell_type": "code",
      "source": [
        "from azureml.core import Experiment\n",
        "from datetime import datetime\n",
        "\n",
        "now = datetime.now()\n",
        "time_string = now.strftime(\"%m-%d-%Y-%H\")\n",
        "#print(time_string)\n",
        "experiment_name = \"credit-automl-remote-{0}\".format(time_string)\n",
        "print(experiment_name)\n",
        "\n",
        "experiment = Experiment(workspace=ws, \n",
        "                        name=experiment_name)\n",
        "            \n",
        "run = experiment.submit(automl_config, show_output=True)"
      ],
      "outputs": [
        {
          "output_type": "stream",
          "name": "stdout",
          "text": [
            "credit-automl-remote-04-18-2021-20\n",
            "Running on remote.\n",
            "No run_configuration provided, running on cpu-cluster with default configuration\n",
            "Running on remote compute: cpu-cluster\n",
            "Parent Run ID: AutoML_8762cd0f-af98-40d1-a9a7-76f69ba20488\n",
            "\n",
            "Current status: FeaturesGeneration. Generating features for the dataset.\n",
            "Current status: DatasetCrossValidationSplit. Generating individually featurized CV splits.\n",
            "Current status: ModelSelection. Beginning model selection.\n",
            "\n",
            "****************************************************************************************************\n",
            "DATA GUARDRAILS: \n",
            "\n",
            "TYPE:         Class balancing detection\n",
            "STATUS:       PASSED\n",
            "DESCRIPTION:  Your inputs were analyzed, and all classes are balanced in your training data.\n",
            "              Learn more about imbalanced data: https://aka.ms/AutomatedMLImbalancedData\n",
            "\n",
            "****************************************************************************************************\n",
            "\n",
            "TYPE:         Missing feature values imputation\n",
            "STATUS:       PASSED\n",
            "DESCRIPTION:  No feature missing values were detected in the training data.\n",
            "              Learn more about missing value imputation: https://aka.ms/AutomatedMLFeaturization\n",
            "\n",
            "****************************************************************************************************\n",
            "\n",
            "TYPE:         High cardinality feature detection\n",
            "STATUS:       PASSED\n",
            "DESCRIPTION:  Your inputs were analyzed, and no high cardinality features were detected.\n",
            "              Learn more about high cardinality feature handling: https://aka.ms/AutomatedMLFeaturization\n",
            "\n",
            "****************************************************************************************************\n",
            "\n",
            "****************************************************************************************************\n",
            "ITERATION: The iteration being evaluated.\n",
            "PIPELINE: A summary description of the pipeline being evaluated.\n",
            "DURATION: Time taken for the current iteration.\n",
            "METRIC: The result of computing score on the fitted pipeline.\n",
            "BEST: The best observed score thus far.\n",
            "****************************************************************************************************\n",
            "\n",
            " ITERATION   PIPELINE                                       DURATION      METRIC      BEST\n",
            "         1   MaxAbsScaler XGBoostClassifier                 0:00:44       0.7282    0.7282\n",
            "         0   MaxAbsScaler LightGBM                          0:00:48       0.7293    0.7293\n",
            "         3   MaxAbsScaler RandomForest                      0:00:49       0.7014    0.7293\n",
            "         2   MaxAbsScaler RandomForest                      0:01:29       0.7103    0.7293\n",
            "         5   MaxAbsScaler RandomForest                      0:00:44       0.6813    0.7293\n",
            "         4   MaxAbsScaler RandomForest                      0:01:30       0.6868    0.7293\n",
            "         6   SparseNormalizer XGBoostClassifier             0:00:46       0.7249    0.7293\n",
            "         7   SparseNormalizer XGBoostClassifier             0:00:46       0.7282    0.7293\n",
            "         8   MaxAbsScaler RandomForest                      0:00:48       0.6991    0.7293\n",
            "         9   SparseNormalizer XGBoostClassifier             0:00:41       0.7282    0.7293\n",
            "        10   SparseNormalizer LightGBM                      0:00:48       0.7204    0.7293\n",
            "        11   MaxAbsScaler LightGBM                          0:00:42       0.7036    0.7293\n",
            "        12   MaxAbsScaler LogisticRegression                0:00:43       0.7204    0.7293\n",
            "        13   MaxAbsScaler LogisticRegression                0:00:44       0.7171    0.7293\n",
            "        14   SparseNormalizer XGBoostClassifier             0:00:42       0.7237    0.7293\n",
            "        15   MaxAbsScaler RandomForest                      0:00:56       0.7137    0.7293\n",
            "        16   MaxAbsScaler GradientBoosting                  0:00:46       0.7249    0.7293\n",
            "        17   MaxAbsScaler ExtremeRandomTrees                0:00:51       0.7137    0.7293\n",
            "        18   MaxAbsScaler LogisticRegression                0:00:46       0.7171    0.7293\n",
            "        19   StandardScalerWrapper LightGBM                 0:00:33       0.6991    0.7293\n",
            "        20    VotingEnsemble                                0:01:05       0.7517    0.7517\n",
            "        21    StackEnsemble                                 0:00:59       0.7372    0.7517\n"
          ]
        }
      ],
      "execution_count": 11,
      "metadata": {}
    },
    {
      "cell_type": "markdown",
      "source": [
        "## Explore results with Widget\n",
        "#### Widget for Monitoring Runs\n",
        "\n",
        "The widget will first report a \"loading\" status while running the first iteration. After completing the first iteration, an auto-updating graph and table will be shown. The widget will refresh once per minute, so you should see the graph update as child runs complete.\n",
        "\n",
        "**Note:** The widget displays a link at the bottom. Use this link to open a web interface to explore the individual run details"
      ],
      "metadata": {}
    },
    {
      "cell_type": "code",
      "source": [
        "from azureml.widgets import RunDetails\n",
        "RunDetails(run).show()"
      ],
      "outputs": [
        {
          "output_type": "display_data",
          "data": {
            "application/vnd.jupyter.widget-view+json": {
              "model_id": "3e3f4087651f4275b04f244dd2380619",
              "version_major": 2,
              "version_minor": 0
            },
            "text/plain": "_AutoMLWidget(widget_settings={'childWidgetDisplay': 'popup', 'send_telemetry': False, 'log_level': 'INFO', 's…"
          },
          "metadata": {}
        },
        {
          "output_type": "display_data",
          "data": {
            "application/aml.mini.widget.v1": "{\"status\": \"Completed\", \"workbench_run_details_uri\": \"https://ml.azure.com/experiments/credit-automl-remote-04-18-2021-20/runs/AutoML_8762cd0f-af98-40d1-a9a7-76f69ba20488?wsid=/subscriptions/7d48758f-d40b-4252-854c-e7d8f2ed7645/resourcegroups/MCW_Synapse/workspaces/amlworkspacesahiep2141\", \"run_id\": \"AutoML_8762cd0f-af98-40d1-a9a7-76f69ba20488\", \"run_properties\": {\"run_id\": \"AutoML_8762cd0f-af98-40d1-a9a7-76f69ba20488\", \"created_utc\": \"2021-04-18T20:00:41.110154Z\", \"properties\": {\"num_iterations\": \"1000\", \"training_type\": \"TrainFull\", \"acquisition_function\": \"EI\", \"primary_metric\": \"accuracy\", \"train_split\": \"0\", \"acquisition_parameter\": \"0\", \"num_cross_validation\": \"5\", \"target\": \"cpu-cluster\", \"AMLSettingsJsonString\": \"{\\\"path\\\":null,\\\"name\\\":\\\"credit-automl-remote-04-18-2021-20\\\",\\\"subscription_id\\\":\\\"7d48758f-d40b-4252-854c-e7d8f2ed7645\\\",\\\"resource_group\\\":\\\"MCW_Synapse\\\",\\\"workspace_name\\\":\\\"amlworkspacesahiep2141\\\",\\\"region\\\":\\\"westeurope\\\",\\\"compute_target\\\":\\\"cpu-cluster\\\",\\\"spark_service\\\":null,\\\"azure_service\\\":\\\"remote\\\",\\\"many_models\\\":false,\\\"pipeline_fetch_max_batch_size\\\":1,\\\"iterations\\\":1000,\\\"primary_metric\\\":\\\"accuracy\\\",\\\"task_type\\\":\\\"classification\\\",\\\"data_script\\\":null,\\\"validation_size\\\":0.0,\\\"n_cross_validations\\\":5,\\\"y_min\\\":null,\\\"y_max\\\":null,\\\"num_classes\\\":null,\\\"featurization\\\":\\\"auto\\\",\\\"_ignore_package_version_incompatibilities\\\":false,\\\"is_timeseries\\\":false,\\\"max_cores_per_iteration\\\":1,\\\"max_concurrent_iterations\\\":2,\\\"iteration_timeout_minutes\\\":null,\\\"mem_in_mb\\\":null,\\\"enforce_time_on_windows\\\":false,\\\"experiment_timeout_minutes\\\":15,\\\"experiment_exit_score\\\":null,\\\"whitelist_models\\\":null,\\\"blacklist_algos\\\":[\\\"TensorFlowLinearClassifier\\\",\\\"TensorFlowDNN\\\"],\\\"supported_models\\\":[\\\"ExtremeRandomTrees\\\",\\\"XGBoostClassifier\\\",\\\"SVM\\\",\\\"BernoulliNaiveBayes\\\",\\\"MultinomialNaiveBayes\\\",\\\"LightGBM\\\",\\\"RandomForest\\\",\\\"SGD\\\",\\\"AveragedPerceptronClassifier\\\",\\\"LogisticRegression\\\",\\\"KNN\\\",\\\"TensorFlowDNN\\\",\\\"LinearSVM\\\",\\\"DecisionTree\\\",\\\"TensorFlowLinearClassifier\\\",\\\"GradientBoosting\\\"],\\\"auto_blacklist\\\":true,\\\"blacklist_samples_reached\\\":false,\\\"exclude_nan_labels\\\":true,\\\"verbosity\\\":20,\\\"_debug_log\\\":\\\"azureml_automl.log\\\",\\\"show_warnings\\\":false,\\\"model_explainability\\\":true,\\\"service_url\\\":null,\\\"sdk_url\\\":null,\\\"sdk_packages\\\":null,\\\"enable_onnx_compatible_models\\\":false,\\\"enable_split_onnx_featurizer_estimator_models\\\":false,\\\"vm_type\\\":\\\"STANDARD_DS3_V2\\\",\\\"telemetry_verbosity\\\":20,\\\"send_telemetry\\\":true,\\\"enable_dnn\\\":false,\\\"scenario\\\":\\\"SDK-1.13.0\\\",\\\"environment_label\\\":null,\\\"force_text_dnn\\\":false,\\\"enable_feature_sweeping\\\":true,\\\"enable_early_stopping\\\":true,\\\"early_stopping_n_iters\\\":10,\\\"metrics\\\":null,\\\"enable_ensembling\\\":true,\\\"enable_stack_ensembling\\\":true,\\\"ensemble_iterations\\\":15,\\\"enable_tf\\\":false,\\\"enable_subsampling\\\":null,\\\"subsample_seed\\\":null,\\\"enable_nimbusml\\\":false,\\\"enable_streaming\\\":false,\\\"force_streaming\\\":false,\\\"track_child_runs\\\":true,\\\"allowed_private_models\\\":[],\\\"label_column_name\\\":\\\"Risk\\\",\\\"weight_column_name\\\":null,\\\"cv_split_column_names\\\":null,\\\"enable_local_managed\\\":false,\\\"_local_managed_run_id\\\":null,\\\"cost_mode\\\":1,\\\"lag_length\\\":0,\\\"metric_operation\\\":\\\"maximize\\\",\\\"preprocess\\\":true}\", \"DataPrepJsonString\": \"{\\\\\\\"training_data\\\\\\\": \\\\\\\"{\\\\\\\\\\\\\\\"blocks\\\\\\\\\\\\\\\": [{\\\\\\\\\\\\\\\"id\\\\\\\\\\\\\\\": \\\\\\\\\\\\\\\"e5edfa44-d809-4c35-a400-46b5bc09a8de\\\\\\\\\\\\\\\", \\\\\\\\\\\\\\\"type\\\\\\\\\\\\\\\": \\\\\\\\\\\\\\\"Microsoft.DPrep.GetDatastoreFilesBlock\\\\\\\\\\\\\\\", \\\\\\\\\\\\\\\"arguments\\\\\\\\\\\\\\\": {\\\\\\\\\\\\\\\"datastores\\\\\\\\\\\\\\\": [{\\\\\\\\\\\\\\\"datastoreName\\\\\\\\\\\\\\\": \\\\\\\\\\\\\\\"workspaceblobstore\\\\\\\\\\\\\\\", \\\\\\\\\\\\\\\"path\\\\\\\\\\\\\\\": \\\\\\\\\\\\\\\"./datasets/german_credit_data.csv\\\\\\\\\\\\\\\", \\\\\\\\\\\\\\\"resourceGroup\\\\\\\\\\\\\\\": \\\\\\\\\\\\\\\"MCW_Synapse\\\\\\\\\\\\\\\", \\\\\\\\\\\\\\\"subscription\\\\\\\\\\\\\\\": \\\\\\\\\\\\\\\"7d48758f-d40b-4252-854c-e7d8f2ed7645\\\\\\\\\\\\\\\", \\\\\\\\\\\\\\\"workspaceName\\\\\\\\\\\\\\\": \\\\\\\\\\\\\\\"amlworkspacesahiep2141\\\\\\\\\\\\\\\"}]}, \\\\\\\\\\\\\\\"localData\\\\\\\\\\\\\\\": {}, \\\\\\\\\\\\\\\"isEnabled\\\\\\\\\\\\\\\": true, \\\\\\\\\\\\\\\"name\\\\\\\\\\\\\\\": null, \\\\\\\\\\\\\\\"annotation\\\\\\\\\\\\\\\": null}, {\\\\\\\\\\\\\\\"id\\\\\\\\\\\\\\\": \\\\\\\\\\\\\\\"30425bbe-6be8-4a93-93cf-797f72393e87\\\\\\\\\\\\\\\", \\\\\\\\\\\\\\\"type\\\\\\\\\\\\\\\": \\\\\\\\\\\\\\\"Microsoft.DPrep.ParseDelimitedBlock\\\\\\\\\\\\\\\", \\\\\\\\\\\\\\\"arguments\\\\\\\\\\\\\\\": {\\\\\\\\\\\\\\\"columnHeadersMode\\\\\\\\\\\\\\\": 3, \\\\\\\\\\\\\\\"fileEncoding\\\\\\\\\\\\\\\": 0, \\\\\\\\\\\\\\\"handleQuotedLineBreaks\\\\\\\\\\\\\\\": false, \\\\\\\\\\\\\\\"preview\\\\\\\\\\\\\\\": false, \\\\\\\\\\\\\\\"separator\\\\\\\\\\\\\\\": \\\\\\\\\\\\\\\",\\\\\\\\\\\\\\\", \\\\\\\\\\\\\\\"skipRows\\\\\\\\\\\\\\\": 0, \\\\\\\\\\\\\\\"skipRowsMode\\\\\\\\\\\\\\\": 0}, \\\\\\\\\\\\\\\"localData\\\\\\\\\\\\\\\": {}, \\\\\\\\\\\\\\\"isEnabled\\\\\\\\\\\\\\\": true, \\\\\\\\\\\\\\\"name\\\\\\\\\\\\\\\": null, \\\\\\\\\\\\\\\"annotation\\\\\\\\\\\\\\\": null}, {\\\\\\\\\\\\\\\"id\\\\\\\\\\\\\\\": \\\\\\\\\\\\\\\"6435810d-fec8-40ed-afe1-4cdacce81837\\\\\\\\\\\\\\\", \\\\\\\\\\\\\\\"type\\\\\\\\\\\\\\\": \\\\\\\\\\\\\\\"Microsoft.DPrep.DropColumnsBlock\\\\\\\\\\\\\\\", \\\\\\\\\\\\\\\"arguments\\\\\\\\\\\\\\\": {\\\\\\\\\\\\\\\"columns\\\\\\\\\\\\\\\": {\\\\\\\\\\\\\\\"type\\\\\\\\\\\\\\\": 0, \\\\\\\\\\\\\\\"details\\\\\\\\\\\\\\\": {\\\\\\\\\\\\\\\"selectedColumns\\\\\\\\\\\\\\\": [\\\\\\\\\\\\\\\"Path\\\\\\\\\\\\\\\"]}}}, \\\\\\\\\\\\\\\"localData\\\\\\\\\\\\\\\": {}, \\\\\\\\\\\\\\\"isEnabled\\\\\\\\\\\\\\\": true, \\\\\\\\\\\\\\\"name\\\\\\\\\\\\\\\": null, \\\\\\\\\\\\\\\"annotation\\\\\\\\\\\\\\\": null}, {\\\\\\\\\\\\\\\"id\\\\\\\\\\\\\\\": \\\\\\\\\\\\\\\"c9799855-3aff-4dc5-b566-cd901e37e015\\\\\\\\\\\\\\\", \\\\\\\\\\\\\\\"type\\\\\\\\\\\\\\\": \\\\\\\\\\\\\\\"Microsoft.DPrep.SetColumnTypesBlock\\\\\\\\\\\\\\\", \\\\\\\\\\\\\\\"arguments\\\\\\\\\\\\\\\": {\\\\\\\\\\\\\\\"columnConversion\\\\\\\\\\\\\\\": [{\\\\\\\\\\\\\\\"column\\\\\\\\\\\\\\\": {\\\\\\\\\\\\\\\"type\\\\\\\\\\\\\\\": 2, \\\\\\\\\\\\\\\"details\\\\\\\\\\\\\\\": {\\\\\\\\\\\\\\\"selectedColumn\\\\\\\\\\\\\\\": \\\\\\\\\\\\\\\"Sno\\\\\\\\\\\\\\\"}}, \\\\\\\\\\\\\\\"typeProperty\\\\\\\\\\\\\\\": 2}, {\\\\\\\\\\\\\\\"column\\\\\\\\\\\\\\\": {\\\\\\\\\\\\\\\"type\\\\\\\\\\\\\\\": 2, \\\\\\\\\\\\\\\"details\\\\\\\\\\\\\\\": {\\\\\\\\\\\\\\\"selectedColumn\\\\\\\\\\\\\\\": \\\\\\\\\\\\\\\"Age\\\\\\\\\\\\\\\"}}, \\\\\\\\\\\\\\\"typeProperty\\\\\\\\\\\\\\\": 2}, {\\\\\\\\\\\\\\\"column\\\\\\\\\\\\\\\": {\\\\\\\\\\\\\\\"type\\\\\\\\\\\\\\\": 2, \\\\\\\\\\\\\\\"details\\\\\\\\\\\\\\\": {\\\\\\\\\\\\\\\"selectedColumn\\\\\\\\\\\\\\\": \\\\\\\\\\\\\\\"Sex\\\\\\\\\\\\\\\"}}, \\\\\\\\\\\\\\\"typeProperty\\\\\\\\\\\\\\\": 0}, {\\\\\\\\\\\\\\\"column\\\\\\\\\\\\\\\": {\\\\\\\\\\\\\\\"type\\\\\\\\\\\\\\\": 2, \\\\\\\\\\\\\\\"details\\\\\\\\\\\\\\\": {\\\\\\\\\\\\\\\"selectedColumn\\\\\\\\\\\\\\\": \\\\\\\\\\\\\\\"Job\\\\\\\\\\\\\\\"}}, \\\\\\\\\\\\\\\"typeProperty\\\\\\\\\\\\\\\": 2}, {\\\\\\\\\\\\\\\"column\\\\\\\\\\\\\\\": {\\\\\\\\\\\\\\\"type\\\\\\\\\\\\\\\": 2, \\\\\\\\\\\\\\\"details\\\\\\\\\\\\\\\": {\\\\\\\\\\\\\\\"selectedColumn\\\\\\\\\\\\\\\": \\\\\\\\\\\\\\\"Housing\\\\\\\\\\\\\\\"}}, \\\\\\\\\\\\\\\"typeProperty\\\\\\\\\\\\\\\": 0}, {\\\\\\\\\\\\\\\"column\\\\\\\\\\\\\\\": {\\\\\\\\\\\\\\\"type\\\\\\\\\\\\\\\": 2, \\\\\\\\\\\\\\\"details\\\\\\\\\\\\\\\": {\\\\\\\\\\\\\\\"selectedColumn\\\\\\\\\\\\\\\": \\\\\\\\\\\\\\\"Saving accounts\\\\\\\\\\\\\\\"}}, \\\\\\\\\\\\\\\"typeProperty\\\\\\\\\\\\\\\": 0}, {\\\\\\\\\\\\\\\"column\\\\\\\\\\\\\\\": {\\\\\\\\\\\\\\\"type\\\\\\\\\\\\\\\": 2, \\\\\\\\\\\\\\\"details\\\\\\\\\\\\\\\": {\\\\\\\\\\\\\\\"selectedColumn\\\\\\\\\\\\\\\": \\\\\\\\\\\\\\\"Checking account\\\\\\\\\\\\\\\"}}, \\\\\\\\\\\\\\\"typeProperty\\\\\\\\\\\\\\\": 0}, {\\\\\\\\\\\\\\\"column\\\\\\\\\\\\\\\": {\\\\\\\\\\\\\\\"type\\\\\\\\\\\\\\\": 2, \\\\\\\\\\\\\\\"details\\\\\\\\\\\\\\\": {\\\\\\\\\\\\\\\"selectedColumn\\\\\\\\\\\\\\\": \\\\\\\\\\\\\\\"Credit amount\\\\\\\\\\\\\\\"}}, \\\\\\\\\\\\\\\"typeProperty\\\\\\\\\\\\\\\": 2}, {\\\\\\\\\\\\\\\"column\\\\\\\\\\\\\\\": {\\\\\\\\\\\\\\\"type\\\\\\\\\\\\\\\": 2, \\\\\\\\\\\\\\\"details\\\\\\\\\\\\\\\": {\\\\\\\\\\\\\\\"selectedColumn\\\\\\\\\\\\\\\": \\\\\\\\\\\\\\\"Duration\\\\\\\\\\\\\\\"}}, \\\\\\\\\\\\\\\"typeProperty\\\\\\\\\\\\\\\": 2}, {\\\\\\\\\\\\\\\"column\\\\\\\\\\\\\\\": {\\\\\\\\\\\\\\\"type\\\\\\\\\\\\\\\": 2, \\\\\\\\\\\\\\\"details\\\\\\\\\\\\\\\": {\\\\\\\\\\\\\\\"selectedColumn\\\\\\\\\\\\\\\": \\\\\\\\\\\\\\\"Purpose\\\\\\\\\\\\\\\"}}, \\\\\\\\\\\\\\\"typeProperty\\\\\\\\\\\\\\\": 0}, {\\\\\\\\\\\\\\\"column\\\\\\\\\\\\\\\": {\\\\\\\\\\\\\\\"type\\\\\\\\\\\\\\\": 2, \\\\\\\\\\\\\\\"details\\\\\\\\\\\\\\\": {\\\\\\\\\\\\\\\"selectedColumn\\\\\\\\\\\\\\\": \\\\\\\\\\\\\\\"Risk\\\\\\\\\\\\\\\"}}, \\\\\\\\\\\\\\\"typeProperty\\\\\\\\\\\\\\\": 0}]}, \\\\\\\\\\\\\\\"localData\\\\\\\\\\\\\\\": {}, \\\\\\\\\\\\\\\"isEnabled\\\\\\\\\\\\\\\": true, \\\\\\\\\\\\\\\"name\\\\\\\\\\\\\\\": null, \\\\\\\\\\\\\\\"annotation\\\\\\\\\\\\\\\": null}, {\\\\\\\\\\\\\\\"id\\\\\\\\\\\\\\\": \\\\\\\\\\\\\\\"d12a5853-8aba-4394-afe4-91db6d6f9e38\\\\\\\\\\\\\\\", \\\\\\\\\\\\\\\"type\\\\\\\\\\\\\\\": \\\\\\\\\\\\\\\"Microsoft.DPrep.DropColumnsBlock\\\\\\\\\\\\\\\", \\\\\\\\\\\\\\\"arguments\\\\\\\\\\\\\\\": {\\\\\\\\\\\\\\\"columns\\\\\\\\\\\\\\\": {\\\\\\\\\\\\\\\"type\\\\\\\\\\\\\\\": 0, \\\\\\\\\\\\\\\"details\\\\\\\\\\\\\\\": {\\\\\\\\\\\\\\\"selectedColumns\\\\\\\\\\\\\\\": [\\\\\\\\\\\\\\\"Sno\\\\\\\\\\\\\\\"]}}}, \\\\\\\\\\\\\\\"localData\\\\\\\\\\\\\\\": {}, \\\\\\\\\\\\\\\"isEnabled\\\\\\\\\\\\\\\": true, \\\\\\\\\\\\\\\"name\\\\\\\\\\\\\\\": null, \\\\\\\\\\\\\\\"annotation\\\\\\\\\\\\\\\": null}, {\\\\\\\\\\\\\\\"id\\\\\\\\\\\\\\\": \\\\\\\\\\\\\\\"3d134468-1c9e-41f1-adc4-feab16e7c26e\\\\\\\\\\\\\\\", \\\\\\\\\\\\\\\"type\\\\\\\\\\\\\\\": \\\\\\\\\\\\\\\"Microsoft.DPrep.RandomSplitBlock\\\\\\\\\\\\\\\", \\\\\\\\\\\\\\\"arguments\\\\\\\\\\\\\\\": {\\\\\\\\\\\\\\\"probability\\\\\\\\\\\\\\\": 0.9, \\\\\\\\\\\\\\\"seed\\\\\\\\\\\\\\\": 1}, \\\\\\\\\\\\\\\"localData\\\\\\\\\\\\\\\": {}, \\\\\\\\\\\\\\\"isEnabled\\\\\\\\\\\\\\\": true, \\\\\\\\\\\\\\\"name\\\\\\\\\\\\\\\": null, \\\\\\\\\\\\\\\"annotation\\\\\\\\\\\\\\\": null}], \\\\\\\\\\\\\\\"inspectors\\\\\\\\\\\\\\\": [], \\\\\\\\\\\\\\\"meta\\\\\\\\\\\\\\\": {\\\\\\\\\\\\\\\"savedDatasetId\\\\\\\\\\\\\\\": \\\\\\\\\\\\\\\"6d6ad00f-36e8-451b-a75d-45813468930b\\\\\\\\\\\\\\\", \\\\\\\\\\\\\\\"datasetType\\\\\\\\\\\\\\\": \\\\\\\\\\\\\\\"tabular\\\\\\\\\\\\\\\", \\\\\\\\\\\\\\\"subscriptionId\\\\\\\\\\\\\\\": \\\\\\\\\\\\\\\"7d48758f-d40b-4252-854c-e7d8f2ed7645\\\\\\\\\\\\\\\", \\\\\\\\\\\\\\\"workspaceId\\\\\\\\\\\\\\\": \\\\\\\\\\\\\\\"70a2bbae-ccaf-4325-a426-26f1a68d001b\\\\\\\\\\\\\\\", \\\\\\\\\\\\\\\"workspaceLocation\\\\\\\\\\\\\\\": \\\\\\\\\\\\\\\"westeurope\\\\\\\\\\\\\\\"}}\\\\\\\", \\\\\\\"activities\\\\\\\": 0}\", \"EnableSubsampling\": null, \"runTemplate\": \"AutoML\", \"azureml.runsource\": \"automl\", \"display_task_type\": \"classification\", \"dependencies_versions\": \"{\\\"azureml-widgets\\\": \\\"1.19.0\\\", \\\"azureml-train\\\": \\\"1.19.0\\\", \\\"azureml-train-restclients-hyperdrive\\\": \\\"1.19.0\\\", \\\"azureml-train-core\\\": \\\"1.19.0\\\", \\\"azureml-train-automl\\\": \\\"1.19.0\\\", \\\"azureml-train-automl-runtime\\\": \\\"1.19.0\\\", \\\"azureml-train-automl-client\\\": \\\"1.19.0\\\", \\\"azureml-tensorboard\\\": \\\"1.19.0\\\", \\\"azureml-telemetry\\\": \\\"1.19.0\\\", \\\"azureml-sdk\\\": \\\"1.19.0\\\", \\\"azureml-samples\\\": \\\"0+unknown\\\", \\\"azureml-pipeline\\\": \\\"1.19.0\\\", \\\"azureml-pipeline-steps\\\": \\\"1.19.0\\\", \\\"azureml-pipeline-core\\\": \\\"1.19.0\\\", \\\"azureml-opendatasets\\\": \\\"1.19.0\\\", \\\"azureml-model-management-sdk\\\": \\\"1.0.1b6.post1\\\", \\\"azureml-mlflow\\\": \\\"1.19.0\\\", \\\"azureml-interpret\\\": \\\"1.19.0\\\", \\\"azureml-explain-model\\\": \\\"1.19.0\\\", \\\"azureml-defaults\\\": \\\"1.19.0\\\", \\\"azureml-dataset-runtime\\\": \\\"1.19.0\\\", \\\"azureml-dataprep\\\": \\\"2.6.1\\\", \\\"azureml-dataprep-rslex\\\": \\\"1.4.0\\\", \\\"azureml-dataprep-native\\\": \\\"26.0.0\\\", \\\"azureml-datadrift\\\": \\\"1.19.0\\\", \\\"azureml-core\\\": \\\"1.19.0\\\", \\\"azureml-contrib-services\\\": \\\"1.19.0\\\", \\\"azureml-contrib-server\\\": \\\"1.19.0\\\", \\\"azureml-contrib-reinforcementlearning\\\": \\\"1.19.0\\\", \\\"azureml-contrib-pipeline-steps\\\": \\\"1.19.0\\\", \\\"azureml-contrib-notebook\\\": \\\"1.19.0\\\", \\\"azureml-contrib-interpret\\\": \\\"1.19.0\\\", \\\"azureml-contrib-gbdt\\\": \\\"1.19.0\\\", \\\"azureml-contrib-fairness\\\": \\\"1.19.0\\\", \\\"azureml-contrib-dataset\\\": \\\"1.19.0\\\", \\\"azureml-cli-common\\\": \\\"1.19.0\\\", \\\"azureml-automl-runtime\\\": \\\"1.19.0\\\", \\\"azureml-automl-core\\\": \\\"1.19.0\\\", \\\"azureml-accel-models\\\": \\\"1.19.0\\\"}\", \"_aml_system_scenario_identification\": \"Remote.Parent\", \"ClientType\": \"SDK\", \"environment_cpu_name\": \"AzureML-AutoML\", \"environment_cpu_label\": \"prod\", \"environment_gpu_name\": \"AzureML-AutoML-GPU\", \"environment_gpu_label\": \"prod\", \"root_attribution\": \"automl\", \"attribution\": \"AutoML\", \"Orchestrator\": \"AutoML\", \"CancelUri\": \"https://westeurope.experiments.azureml.net/jasmine/v1.0/subscriptions/7d48758f-d40b-4252-854c-e7d8f2ed7645/resourceGroups/MCW_Synapse/providers/Microsoft.MachineLearningServices/workspaces/amlworkspacesahiep2141/experimentids/253aaa2d-b5b5-46ef-af1d-9926e76f0131/cancel/AutoML_8762cd0f-af98-40d1-a9a7-76f69ba20488\", \"ClientSdkVersion\": \"1.26.0\", \"snapshotId\": \"00000000-0000-0000-0000-000000000000\", \"SetupRunId\": \"AutoML_8762cd0f-af98-40d1-a9a7-76f69ba20488_setup\", \"SetupRunContainerId\": \"dcid.AutoML_8762cd0f-af98-40d1-a9a7-76f69ba20488_setup\", \"FeaturizationRunJsonPath\": \"featurizer_container.json\", \"FeaturizationRunId\": \"AutoML_8762cd0f-af98-40d1-a9a7-76f69ba20488_featurize\", \"ProblemInfoJsonString\": \"{\\\"dataset_num_categorical\\\": 0, \\\"is_sparse\\\": true, \\\"subsampling\\\": false, \\\"dataset_classes\\\": 2, \\\"dataset_features\\\": 60, \\\"dataset_samples\\\": 894, \\\"single_frequency_class_detected\\\": false}\", \"ModelExplainRunId\": \"AutoML_8762cd0f-af98-40d1-a9a7-76f69ba20488_ModelExplain\", \"azureml.git.repository_uri\": \"https://github.com/Sahiep/aml-hands-on-lab.git\", \"mlflow.source.git.repoURL\": \"https://github.com/Sahiep/aml-hands-on-lab.git\", \"azureml.git.branch\": \"main\", \"mlflow.source.git.branch\": \"main\", \"azureml.git.commit\": \"a44ea44dca6fb1b68b1fabd24221ee4562db1fa6\", \"mlflow.source.git.commit\": \"a44ea44dca6fb1b68b1fabd24221ee4562db1fa6\", \"azureml.git.dirty\": \"True\"}, \"tags\": {\"model_explain_run\": \"best_run\", \"_aml_system_azureml.automlComponent\": \"AutoML\", \"pipeline_id\": \"\", \"score\": \"\", \"predicted_cost\": \"\", \"fit_time\": \"\", \"training_percent\": \"\", \"iteration\": \"\", \"run_preprocessor\": \"\", \"run_algorithm\": \"\", \"automl_best_child_run_id\": \"AutoML_8762cd0f-af98-40d1-a9a7-76f69ba20488_20\", \"model_explain_best_run_child_id\": \"AutoML_8762cd0f-af98-40d1-a9a7-76f69ba20488_20\"}, \"end_time_utc\": \"2021-04-18T20:24:18.062645Z\", \"status\": \"Completed\", \"log_files\": {}, \"log_groups\": [], \"run_duration\": \"0:23:36\"}, \"child_runs\": [{\"run_id\": \"AutoML_8762cd0f-af98-40d1-a9a7-76f69ba20488_0\", \"run_number\": 5, \"metric\": null, \"status\": \"Completed\", \"run_type\": \"azureml.scriptrun\", \"training_percent\": \"100\", \"start_time\": \"2021-04-18T20:10:44.021378Z\", \"end_time\": \"2021-04-18T20:11:32.057053Z\", \"created_time\": \"2021-04-18T20:07:33.784628Z\", \"created_time_dt\": \"2021-04-18T20:07:33.784628Z\", \"duration\": \"0:03:58\", \"iteration\": \"0\", \"goal\": \"accuracy_max\", \"run_name\": \"MaxAbsScaler, LightGBM\", \"run_properties\": \"copy=True\", \"primary_metric\": 0.72933275, \"best_metric\": 0.72933275}, {\"run_id\": \"AutoML_8762cd0f-af98-40d1-a9a7-76f69ba20488_1\", \"run_number\": 6, \"metric\": null, \"status\": \"Completed\", \"run_type\": \"azureml.scriptrun\", \"training_percent\": \"100\", \"start_time\": \"2021-04-18T20:09:48.57162Z\", \"end_time\": \"2021-04-18T20:10:32.937518Z\", \"created_time\": \"2021-04-18T20:07:33.833949Z\", \"created_time_dt\": \"2021-04-18T20:07:33.833949Z\", \"duration\": \"0:02:59\", \"iteration\": \"1\", \"goal\": \"accuracy_max\", \"run_name\": \"MaxAbsScaler, XGBoostClassifier\", \"run_properties\": \"copy=True\", \"primary_metric\": 0.72818404, \"best_metric\": 0.72933275}, {\"run_id\": \"AutoML_8762cd0f-af98-40d1-a9a7-76f69ba20488_2\", \"run_number\": 7, \"metric\": null, \"status\": \"Completed\", \"run_type\": \"azureml.scriptrun\", \"training_percent\": \"100\", \"start_time\": \"2021-04-18T20:12:44.332353Z\", \"end_time\": \"2021-04-18T20:14:13.548929Z\", \"created_time\": \"2021-04-18T20:10:34.996494Z\", \"created_time_dt\": \"2021-04-18T20:10:34.996494Z\", \"duration\": \"0:03:38\", \"iteration\": \"2\", \"goal\": \"accuracy_max\", \"run_name\": \"MaxAbsScaler, RandomForest\", \"run_properties\": \"copy=True\", \"primary_metric\": 0.71031323, \"best_metric\": 0.72933275}, {\"run_id\": \"AutoML_8762cd0f-af98-40d1-a9a7-76f69ba20488_3\", \"run_number\": 8, \"metric\": null, \"status\": \"Completed\", \"run_type\": \"azureml.scriptrun\", \"training_percent\": \"100\", \"start_time\": \"2021-04-18T20:12:48.384947Z\", \"end_time\": \"2021-04-18T20:13:37.664813Z\", \"created_time\": \"2021-04-18T20:11:34.650799Z\", \"created_time_dt\": \"2021-04-18T20:11:34.650799Z\", \"duration\": \"0:02:03\", \"iteration\": \"3\", \"goal\": \"accuracy_max\", \"run_name\": \"MaxAbsScaler, RandomForest\", \"run_properties\": \"copy=True\", \"primary_metric\": 0.70137468, \"best_metric\": 0.72933275}, {\"run_id\": \"AutoML_8762cd0f-af98-40d1-a9a7-76f69ba20488_4\", \"run_number\": 9, \"metric\": null, \"status\": \"Completed\", \"run_type\": \"azureml.scriptrun\", \"training_percent\": \"100\", \"start_time\": \"2021-04-18T20:14:32.500136Z\", \"end_time\": \"2021-04-18T20:16:02.787934Z\", \"created_time\": \"2021-04-18T20:13:40.66712Z\", \"created_time_dt\": \"2021-04-18T20:13:40.66712Z\", \"duration\": \"0:02:22\", \"iteration\": \"4\", \"goal\": \"accuracy_max\", \"run_name\": \"MaxAbsScaler, RandomForest\", \"run_properties\": \"copy=True\", \"primary_metric\": 0.68682443, \"best_metric\": 0.72933275}, {\"run_id\": \"AutoML_8762cd0f-af98-40d1-a9a7-76f69ba20488_5\", \"run_number\": 10, \"metric\": null, \"status\": \"Completed\", \"run_type\": \"azureml.scriptrun\", \"training_percent\": \"100\", \"start_time\": \"2021-04-18T20:15:04.89969Z\", \"end_time\": \"2021-04-18T20:15:49.379508Z\", \"created_time\": \"2021-04-18T20:14:16.328581Z\", \"created_time_dt\": \"2021-04-18T20:14:16.328581Z\", \"duration\": \"0:01:33\", \"iteration\": \"5\", \"goal\": \"accuracy_max\", \"run_name\": \"MaxAbsScaler, RandomForest\", \"run_properties\": \"copy=True\", \"primary_metric\": 0.68125667, \"best_metric\": 0.72933275}, {\"run_id\": \"AutoML_8762cd0f-af98-40d1-a9a7-76f69ba20488_6\", \"run_number\": 11, \"metric\": null, \"status\": \"Completed\", \"run_type\": \"azureml.scriptrun\", \"training_percent\": \"100\", \"start_time\": \"2021-04-18T20:16:04.215056Z\", \"end_time\": \"2021-04-18T20:16:50.252323Z\", \"created_time\": \"2021-04-18T20:15:51.939935Z\", \"created_time_dt\": \"2021-04-18T20:15:51.939935Z\", \"duration\": \"0:00:58\", \"iteration\": \"6\", \"goal\": \"accuracy_max\", \"run_name\": \"SparseNormalizer, XGBoostClassifier\", \"run_properties\": \"<azureml.automl.runtime.shared.model_wrappers.SparseNormalizer object at 0x7fea3c9097b8\", \"primary_metric\": 0.7248572, \"best_metric\": 0.72933275}, {\"run_id\": \"AutoML_8762cd0f-af98-40d1-a9a7-76f69ba20488_7\", \"run_number\": 12, \"metric\": null, \"status\": \"Completed\", \"run_type\": \"azureml.scriptrun\", \"training_percent\": \"100\", \"start_time\": \"2021-04-18T20:16:17.481827Z\", \"end_time\": \"2021-04-18T20:17:03.152851Z\", \"created_time\": \"2021-04-18T20:16:05.764235Z\", \"created_time_dt\": \"2021-04-18T20:16:05.764235Z\", \"duration\": \"0:00:57\", \"iteration\": \"7\", \"goal\": \"accuracy_max\", \"run_name\": \"SparseNormalizer, XGBoostClassifier\", \"run_properties\": \"<azureml.automl.runtime.shared.model_wrappers.SparseNormalizer object at 0x7f2624dfa940\", \"primary_metric\": 0.72821543, \"best_metric\": 0.72933275}, {\"run_id\": \"AutoML_8762cd0f-af98-40d1-a9a7-76f69ba20488_8\", \"run_number\": 13, \"metric\": null, \"status\": \"Completed\", \"run_type\": \"azureml.scriptrun\", \"training_percent\": \"100\", \"start_time\": \"2021-04-18T20:17:05.83725Z\", \"end_time\": \"2021-04-18T20:17:54.324744Z\", \"created_time\": \"2021-04-18T20:16:54.238576Z\", \"created_time_dt\": \"2021-04-18T20:16:54.238576Z\", \"duration\": \"0:01:00\", \"iteration\": \"8\", \"goal\": \"accuracy_max\", \"run_name\": \"MaxAbsScaler, RandomForest\", \"run_properties\": \"copy=True\", \"primary_metric\": 0.69914632, \"best_metric\": 0.72933275}, {\"run_id\": \"AutoML_8762cd0f-af98-40d1-a9a7-76f69ba20488_9\", \"run_number\": 14, \"metric\": null, \"status\": \"Completed\", \"run_type\": \"azureml.scriptrun\", \"training_percent\": \"100\", \"start_time\": \"2021-04-18T20:17:19.242035Z\", \"end_time\": \"2021-04-18T20:18:00.200173Z\", \"created_time\": \"2021-04-18T20:17:05.807675Z\", \"created_time_dt\": \"2021-04-18T20:17:05.807675Z\", \"duration\": \"0:00:54\", \"iteration\": \"9\", \"goal\": \"accuracy_max\", \"run_name\": \"SparseNormalizer, XGBoostClassifier\", \"run_properties\": \"<azureml.automl.runtime.shared.model_wrappers.SparseNormalizer object at 0x7ff534e9ca58\", \"primary_metric\": 0.72823426, \"best_metric\": 0.72933275}, {\"run_id\": \"AutoML_8762cd0f-af98-40d1-a9a7-76f69ba20488_10\", \"run_number\": 15, \"metric\": null, \"status\": \"Completed\", \"run_type\": \"azureml.scriptrun\", \"training_percent\": \"100\", \"start_time\": \"2021-04-18T20:18:05.244744Z\", \"end_time\": \"2021-04-18T20:18:52.793339Z\", \"created_time\": \"2021-04-18T20:17:57.237304Z\", \"created_time_dt\": \"2021-04-18T20:17:57.237304Z\", \"duration\": \"0:00:55\", \"iteration\": \"10\", \"goal\": \"accuracy_max\", \"run_name\": \"SparseNormalizer, LightGBM\", \"run_properties\": \"<azureml.automl.runtime.shared.model_wrappers.SparseNormalizer object at 0x7f6da3256ac8\", \"primary_metric\": 0.7203942, \"best_metric\": 0.72933275}, {\"run_id\": \"AutoML_8762cd0f-af98-40d1-a9a7-76f69ba20488_11\", \"run_number\": 16, \"metric\": null, \"status\": \"Completed\", \"run_type\": \"azureml.scriptrun\", \"training_percent\": \"100\", \"start_time\": \"2021-04-18T20:18:10.957538Z\", \"end_time\": \"2021-04-18T20:18:52.811118Z\", \"created_time\": \"2021-04-18T20:18:02.662201Z\", \"created_time_dt\": \"2021-04-18T20:18:02.662201Z\", \"duration\": \"0:00:50\", \"iteration\": \"11\", \"goal\": \"accuracy_max\", \"run_name\": \"MaxAbsScaler, LightGBM\", \"run_properties\": \"copy=True\", \"primary_metric\": 0.70359048, \"best_metric\": 0.72933275}, {\"run_id\": \"AutoML_8762cd0f-af98-40d1-a9a7-76f69ba20488_12\", \"run_number\": 17, \"metric\": null, \"status\": \"Completed\", \"run_type\": \"azureml.scriptrun\", \"training_percent\": \"100\", \"start_time\": \"2021-04-18T20:19:07.204257Z\", \"end_time\": \"2021-04-18T20:19:50.465719Z\", \"created_time\": \"2021-04-18T20:18:55.145696Z\", \"created_time_dt\": \"2021-04-18T20:18:55.145696Z\", \"duration\": \"0:00:55\", \"iteration\": \"12\", \"goal\": \"accuracy_max\", \"run_name\": \"MaxAbsScaler, LogisticRegression\", \"run_properties\": \"copy=True\", \"primary_metric\": 0.72040675, \"best_metric\": 0.72933275}, {\"run_id\": \"AutoML_8762cd0f-af98-40d1-a9a7-76f69ba20488_13\", \"run_number\": 18, \"metric\": null, \"status\": \"Completed\", \"run_type\": \"azureml.scriptrun\", \"training_percent\": \"100\", \"start_time\": \"2021-04-18T20:19:09.760067Z\", \"end_time\": \"2021-04-18T20:19:53.390361Z\", \"created_time\": \"2021-04-18T20:18:55.228428Z\", \"created_time_dt\": \"2021-04-18T20:18:55.228428Z\", \"duration\": \"0:00:58\", \"iteration\": \"13\", \"goal\": \"accuracy_max\", \"run_name\": \"MaxAbsScaler, LogisticRegression\", \"run_properties\": \"copy=True\", \"primary_metric\": 0.7170548, \"best_metric\": 0.72933275}, {\"run_id\": \"AutoML_8762cd0f-af98-40d1-a9a7-76f69ba20488_14\", \"run_number\": 19, \"metric\": null, \"status\": \"Completed\", \"run_type\": \"azureml.scriptrun\", \"training_percent\": \"100\", \"start_time\": \"2021-04-18T20:20:03.07138Z\", \"end_time\": \"2021-04-18T20:20:45.164685Z\", \"created_time\": \"2021-04-18T20:19:52.795393Z\", \"created_time_dt\": \"2021-04-18T20:19:52.795393Z\", \"duration\": \"0:00:52\", \"iteration\": \"14\", \"goal\": \"accuracy_max\", \"run_name\": \"SparseNormalizer, XGBoostClassifier\", \"run_properties\": \"<azureml.automl.runtime.shared.model_wrappers.SparseNormalizer object at 0x7f84235dc1d0\", \"primary_metric\": 0.7237336, \"best_metric\": 0.72933275}, {\"run_id\": \"AutoML_8762cd0f-af98-40d1-a9a7-76f69ba20488_15\", \"run_number\": 20, \"metric\": null, \"status\": \"Completed\", \"run_type\": \"azureml.scriptrun\", \"training_percent\": \"100\", \"start_time\": \"2021-04-18T20:20:04.944268Z\", \"end_time\": \"2021-04-18T20:21:00.873693Z\", \"created_time\": \"2021-04-18T20:19:56.883563Z\", \"created_time_dt\": \"2021-04-18T20:19:56.883563Z\", \"duration\": \"0:01:03\", \"iteration\": \"15\", \"goal\": \"accuracy_max\", \"run_name\": \"MaxAbsScaler, RandomForest\", \"run_properties\": \"copy=True\", \"primary_metric\": 0.71369029, \"best_metric\": 0.72933275}, {\"run_id\": \"AutoML_8762cd0f-af98-40d1-a9a7-76f69ba20488_16\", \"run_number\": 21, \"metric\": null, \"status\": \"Completed\", \"run_type\": \"azureml.scriptrun\", \"training_percent\": \"100\", \"start_time\": \"2021-04-18T20:20:58.805597Z\", \"end_time\": \"2021-04-18T20:21:44.650983Z\", \"created_time\": \"2021-04-18T20:20:47.448844Z\", \"created_time_dt\": \"2021-04-18T20:20:47.448844Z\", \"duration\": \"0:00:57\", \"iteration\": \"16\", \"goal\": \"accuracy_max\", \"run_name\": \"MaxAbsScaler, GradientBoosting\", \"run_properties\": \"copy=True\", \"primary_metric\": 0.72485092, \"best_metric\": 0.72933275}, {\"run_id\": \"AutoML_8762cd0f-af98-40d1-a9a7-76f69ba20488_17\", \"run_number\": 22, \"metric\": null, \"status\": \"Completed\", \"run_type\": \"azureml.scriptrun\", \"training_percent\": \"100\", \"start_time\": \"2021-04-18T20:21:13.429672Z\", \"end_time\": \"2021-04-18T20:22:04.203625Z\", \"created_time\": \"2021-04-18T20:21:03.337027Z\", \"created_time_dt\": \"2021-04-18T20:21:03.337027Z\", \"duration\": \"0:01:00\", \"iteration\": \"17\", \"goal\": \"accuracy_max\", \"run_name\": \"MaxAbsScaler, ExtremeRandomTrees\", \"run_properties\": \"copy=True\", \"primary_metric\": 0.71369029, \"best_metric\": 0.72933275}, {\"run_id\": \"AutoML_8762cd0f-af98-40d1-a9a7-76f69ba20488_18\", \"run_number\": 23, \"metric\": null, \"status\": \"Completed\", \"run_type\": \"azureml.scriptrun\", \"training_percent\": \"100\", \"start_time\": \"2021-04-18T20:21:59.407077Z\", \"end_time\": \"2021-04-18T20:22:45.12588Z\", \"created_time\": \"2021-04-18T20:21:47.110349Z\", \"created_time_dt\": \"2021-04-18T20:21:47.110349Z\", \"duration\": \"0:00:58\", \"iteration\": \"18\", \"goal\": \"accuracy_max\", \"run_name\": \"MaxAbsScaler, LogisticRegression\", \"run_properties\": \"copy=True\", \"primary_metric\": 0.7170548, \"best_metric\": 0.72933275}, {\"run_id\": \"AutoML_8762cd0f-af98-40d1-a9a7-76f69ba20488_19\", \"run_number\": 24, \"metric\": null, \"status\": \"Canceled\", \"run_type\": \"azureml.scriptrun\", \"training_percent\": \"100\", \"start_time\": \"2021-04-18T20:22:19.863877Z\", \"end_time\": \"2021-04-18T20:22:52.937075Z\", \"created_time\": \"2021-04-18T20:22:07.493032Z\", \"created_time_dt\": \"2021-04-18T20:22:07.493032Z\", \"duration\": \"0:00:45\", \"iteration\": \"19\", \"goal\": \"accuracy_max\", \"run_name\": \"StandardScalerWrapper, LightGBM\", \"run_properties\": \"<azureml.automl.runtime.shared.model_wrappers.StandardScalerWrapper object at 0x7f7d7ac4d3c8\", \"primary_metric\": 0.69914632, \"best_metric\": 0.72933275}, {\"run_id\": \"AutoML_8762cd0f-af98-40d1-a9a7-76f69ba20488_20\", \"run_number\": 25, \"metric\": null, \"status\": \"Completed\", \"run_type\": \"azureml.scriptrun\", \"training_percent\": \"100\", \"start_time\": \"2021-04-18T20:23:09.173164Z\", \"end_time\": \"2021-04-18T20:24:14.164883Z\", \"created_time\": \"2021-04-18T20:22:55.186386Z\", \"created_time_dt\": \"2021-04-18T20:22:55.186386Z\", \"duration\": \"0:01:18\", \"iteration\": \"20\", \"goal\": \"accuracy_max\", \"run_name\": \"VotingEnsemble\", \"run_properties\": \"classification_labels=None,\\n                              estimators=[('0',\\n                                           Pipeline(memory=None,\\n                                                    steps=[('maxabsscaler',\\n                                                            MaxAbsScaler(copy=True\", \"primary_metric\": 0.75173561, \"best_metric\": 0.75173561}, {\"run_id\": \"AutoML_8762cd0f-af98-40d1-a9a7-76f69ba20488_21\", \"run_number\": 26, \"metric\": null, \"status\": \"Completed\", \"run_type\": \"azureml.scriptrun\", \"training_percent\": \"100\", \"start_time\": \"2021-04-18T20:23:08.870666Z\", \"end_time\": \"2021-04-18T20:24:07.411313Z\", \"created_time\": \"2021-04-18T20:22:55.295449Z\", \"created_time_dt\": \"2021-04-18T20:22:55.295449Z\", \"duration\": \"0:01:12\", \"iteration\": \"21\", \"goal\": \"accuracy_max\", \"run_name\": \"StackEnsemble\", \"run_properties\": \"base_learners=[('0',\\n                                        Pipeline(memory=None,\\n                                                 steps=[('maxabsscaler',\\n                                                         MaxAbsScaler(copy=True\", \"primary_metric\": 0.73715398, \"best_metric\": 0.75173561}], \"children_metrics\": {\"categories\": [0], \"series\": {\"log_loss\": [{\"categories\": [\"0\", \"1\", \"2\", \"3\", \"4\", \"5\", \"6\", \"7\", \"8\", \"9\", \"10\", \"11\", \"12\", \"13\", \"14\", \"15\", \"16\", \"17\", \"18\", \"19\", \"20\", \"21\"], \"mode\": \"markers\", \"name\": \"log_loss\", \"stepped\": false, \"type\": \"scatter\", \"data\": [0.6217749533454336, 0.5272208862445666, 0.5316471693548412, 0.5477039649233771, 0.5897421035937412, 0.6181519036339396, 0.5529555190324483, 0.5749616379879224, 0.5549673663040189, 0.5696161582891148, 0.5340609757587763, 0.5481808145689545, 0.5325747742733791, 0.5571837490034428, 0.551755119299728, 0.534181342428134, 0.534414561247697, 0.5410916665210441, 0.5589661681950506, 0.5682888460133823, 0.5200827022800689, 0.526077070898107]}, {\"categories\": [\"0\", \"1\", \"2\", \"3\", \"4\", \"5\", \"6\", \"7\", \"8\", \"9\", \"10\", \"11\", \"12\", \"13\", \"14\", \"15\", \"16\", \"17\", \"18\", \"19\", \"20\", \"21\"], \"mode\": \"lines\", \"name\": \"log_loss_min\", \"stepped\": true, \"type\": \"scatter\", \"data\": [0.6217749533454336, 0.5272208862445666, 0.5272208862445666, 0.5272208862445666, 0.5272208862445666, 0.5272208862445666, 0.5272208862445666, 0.5272208862445666, 0.5272208862445666, 0.5272208862445666, 0.5272208862445666, 0.5272208862445666, 0.5272208862445666, 0.5272208862445666, 0.5272208862445666, 0.5272208862445666, 0.5272208862445666, 0.5272208862445666, 0.5272208862445666, 0.5272208862445666, 0.5200827022800689, 0.5200827022800689]}], \"f1_score_micro\": [{\"categories\": [\"0\", \"1\", \"2\", \"3\", \"4\", \"5\", \"6\", \"7\", \"8\", \"9\", \"10\", \"11\", \"12\", \"13\", \"14\", \"15\", \"16\", \"17\", \"18\", \"19\", \"20\", \"21\"], \"mode\": \"markers\", \"name\": \"f1_score_micro\", \"stepped\": false, \"type\": \"scatter\", \"data\": [0.7293327474734793, 0.7281840436884063, 0.710313225786203, 0.7013746783001695, 0.6868244303559099, 0.6812566693867302, 0.7248571966605989, 0.7282154290377252, 0.6991463184985249, 0.7282342602473166, 0.7203941999874459, 0.7035904839620863, 0.7204067541271735, 0.7170547988199109, 0.7237336011549809, 0.7136902893729207, 0.7248509195907351, 0.7136902893729207, 0.7170547988199109, 0.6991463184985249, 0.7517356098173373, 0.7371539765237587]}, {\"categories\": [\"0\", \"1\", \"2\", \"3\", \"4\", \"5\", \"6\", \"7\", \"8\", \"9\", \"10\", \"11\", \"12\", \"13\", \"14\", \"15\", \"16\", \"17\", \"18\", \"19\", \"20\", \"21\"], \"mode\": \"lines\", \"name\": \"f1_score_micro_max\", \"stepped\": true, \"type\": \"scatter\", \"data\": [0.7293327474734793, 0.7293327474734793, 0.7293327474734793, 0.7293327474734793, 0.7293327474734793, 0.7293327474734793, 0.7293327474734793, 0.7293327474734793, 0.7293327474734793, 0.7293327474734793, 0.7293327474734793, 0.7293327474734793, 0.7293327474734793, 0.7293327474734793, 0.7293327474734793, 0.7293327474734793, 0.7293327474734793, 0.7293327474734793, 0.7293327474734793, 0.7293327474734793, 0.7517356098173373, 0.7517356098173373]}], \"accuracy\": [{\"categories\": [\"0\", \"1\", \"2\", \"3\", \"4\", \"5\", \"6\", \"7\", \"8\", \"9\", \"10\", \"11\", \"12\", \"13\", \"14\", \"15\", \"16\", \"17\", \"18\", \"19\", \"20\", \"21\"], \"mode\": \"markers\", \"name\": \"accuracy\", \"stepped\": false, \"type\": \"scatter\", \"data\": [0.7293327474734793, 0.7281840436884063, 0.710313225786203, 0.7013746783001695, 0.6868244303559099, 0.6812566693867302, 0.7248571966605988, 0.7282154290377252, 0.6991463184985249, 0.7282342602473166, 0.7203941999874458, 0.7035904839620863, 0.7204067541271735, 0.7170547988199109, 0.7237336011549809, 0.7136902893729207, 0.7248509195907351, 0.7136902893729207, 0.7170547988199109, 0.6991463184985249, 0.7517356098173373, 0.7371539765237587]}, {\"categories\": [\"0\", \"1\", \"2\", \"3\", \"4\", \"5\", \"6\", \"7\", \"8\", \"9\", \"10\", \"11\", \"12\", \"13\", \"14\", \"15\", \"16\", \"17\", \"18\", \"19\", \"20\", \"21\"], \"mode\": \"lines\", \"name\": \"accuracy_max\", \"stepped\": true, \"type\": \"scatter\", \"data\": [0.7293327474734793, 0.7293327474734793, 0.7293327474734793, 0.7293327474734793, 0.7293327474734793, 0.7293327474734793, 0.7293327474734793, 0.7293327474734793, 0.7293327474734793, 0.7293327474734793, 0.7293327474734793, 0.7293327474734793, 0.7293327474734793, 0.7293327474734793, 0.7293327474734793, 0.7293327474734793, 0.7293327474734793, 0.7293327474734793, 0.7293327474734793, 0.7293327474734793, 0.7517356098173373, 0.7517356098173373]}], \"precision_score_micro\": [{\"categories\": [\"0\", \"1\", \"2\", \"3\", \"4\", \"5\", \"6\", \"7\", \"8\", \"9\", \"10\", \"11\", \"12\", \"13\", \"14\", \"15\", \"16\", \"17\", \"18\", \"19\", \"20\", \"21\"], \"mode\": \"markers\", \"name\": \"precision_score_micro\", \"stepped\": false, \"type\": \"scatter\", \"data\": [0.7293327474734793, 0.7281840436884063, 0.710313225786203, 0.7013746783001695, 0.6868244303559099, 0.6812566693867302, 0.7248571966605988, 0.7282154290377252, 0.6991463184985249, 0.7282342602473166, 0.7203941999874458, 0.7035904839620863, 0.7204067541271735, 0.7170547988199109, 0.7237336011549809, 0.7136902893729207, 0.7248509195907351, 0.7136902893729207, 0.7170547988199109, 0.6991463184985249, 0.7517356098173373, 0.7371539765237587]}, {\"categories\": [\"0\", \"1\", \"2\", \"3\", \"4\", \"5\", \"6\", \"7\", \"8\", \"9\", \"10\", \"11\", \"12\", \"13\", \"14\", \"15\", \"16\", \"17\", \"18\", \"19\", \"20\", \"21\"], \"mode\": \"lines\", \"name\": \"precision_score_micro_max\", \"stepped\": true, \"type\": \"scatter\", \"data\": [0.7293327474734793, 0.7293327474734793, 0.7293327474734793, 0.7293327474734793, 0.7293327474734793, 0.7293327474734793, 0.7293327474734793, 0.7293327474734793, 0.7293327474734793, 0.7293327474734793, 0.7293327474734793, 0.7293327474734793, 0.7293327474734793, 0.7293327474734793, 0.7293327474734793, 0.7293327474734793, 0.7293327474734793, 0.7293327474734793, 0.7293327474734793, 0.7293327474734793, 0.7517356098173373, 0.7517356098173373]}], \"precision_score_weighted\": [{\"categories\": [\"0\", \"1\", \"2\", \"3\", \"4\", \"5\", \"6\", \"7\", \"8\", \"9\", \"10\", \"11\", \"12\", \"13\", \"14\", \"15\", \"16\", \"17\", \"18\", \"19\", \"20\", \"21\"], \"mode\": \"markers\", \"name\": \"precision_score_weighted\", \"stepped\": false, \"type\": \"scatter\", \"data\": [0.7154495338248702, 0.7076046137628555, 0.6882313826210755, 0.7161034321538393, 0.7314293287480063, 0.738311387554458, 0.7115750093389618, 0.7149954481215521, 0.4892254414941096, 0.7112292620010928, 0.7028717459465929, 0.6751647032481756, 0.7001242249398986, 0.698296942830098, 0.7066553108767619, 0.688065060756523, 0.7027234487564953, 0.6788648982621691, 0.698296942830098, 0.4892254414941096, 0.7380148189381395, 0.7190277671155674]}, {\"categories\": [\"0\", \"1\", \"2\", \"3\", \"4\", \"5\", \"6\", \"7\", \"8\", \"9\", \"10\", \"11\", \"12\", \"13\", \"14\", \"15\", \"16\", \"17\", \"18\", \"19\", \"20\", \"21\"], \"mode\": \"lines\", \"name\": \"precision_score_weighted_max\", \"stepped\": true, \"type\": \"scatter\", \"data\": [0.7154495338248702, 0.7154495338248702, 0.7154495338248702, 0.7161034321538393, 0.7314293287480063, 0.738311387554458, 0.738311387554458, 0.738311387554458, 0.738311387554458, 0.738311387554458, 0.738311387554458, 0.738311387554458, 0.738311387554458, 0.738311387554458, 0.738311387554458, 0.738311387554458, 0.738311387554458, 0.738311387554458, 0.738311387554458, 0.738311387554458, 0.738311387554458, 0.738311387554458]}], \"norm_macro_recall\": [{\"categories\": [\"0\", \"1\", \"2\", \"3\", \"4\", \"5\", \"6\", \"7\", \"8\", \"9\", \"10\", \"11\", \"12\", \"13\", \"14\", \"15\", \"16\", \"17\", \"18\", \"19\", \"20\", \"21\"], \"mode\": \"markers\", \"name\": \"norm_macro_recall\", \"stepped\": false, \"type\": \"scatter\", \"data\": [0.2909808413419085, 0.24128169923740717, 0.0985220979504425, 0.04189672439144658, 0.37370211058067654, 0.38436150485588483, 0.282635080483443, 0.27953734140253184, 0.0, 0.19256318685092672, 0.25448098663859364, 0.06726977183675213, 0.24649518052672076, 0.24788711998550433, 0.25722029379706995, 0.13504805346516022, 0.23449249446419018, 0.16517290348242947, 0.24788711998550433, 0.0, 0.32843587472856905, 0.24281947316577016]}, {\"categories\": [\"0\", \"1\", \"2\", \"3\", \"4\", \"5\", \"6\", \"7\", \"8\", \"9\", \"10\", \"11\", \"12\", \"13\", \"14\", \"15\", \"16\", \"17\", \"18\", \"19\", \"20\", \"21\"], \"mode\": \"lines\", \"name\": \"norm_macro_recall_max\", \"stepped\": true, \"type\": \"scatter\", \"data\": [0.2909808413419085, 0.2909808413419085, 0.2909808413419085, 0.2909808413419085, 0.37370211058067654, 0.38436150485588483, 0.38436150485588483, 0.38436150485588483, 0.38436150485588483, 0.38436150485588483, 0.38436150485588483, 0.38436150485588483, 0.38436150485588483, 0.38436150485588483, 0.38436150485588483, 0.38436150485588483, 0.38436150485588483, 0.38436150485588483, 0.38436150485588483, 0.38436150485588483, 0.38436150485588483, 0.38436150485588483]}], \"average_precision_score_micro\": [{\"categories\": [\"0\", \"1\", \"2\", \"3\", \"4\", \"5\", \"6\", \"7\", \"8\", \"9\", \"10\", \"11\", \"12\", \"13\", \"14\", \"15\", \"16\", \"17\", \"18\", \"19\", \"20\", \"21\"], \"mode\": \"markers\", \"name\": \"average_precision_score_micro\", \"stepped\": false, \"type\": \"scatter\", \"data\": [0.8006776601089605, 0.8134038604985854, 0.8114596524116742, 0.7968900439182374, 0.7678861783842658, 0.7336607105467892, 0.7932911720813108, 0.7993016867025206, 0.8069187678059789, 0.7978022140430345, 0.8026384388249831, 0.8014721111650813, 0.8077847899559594, 0.7938883092120717, 0.7960664348239785, 0.8041987991556943, 0.8018549974273584, 0.795598122727969, 0.7926952203388515, 0.7971194899582524, 0.8199314224652593, 0.8208473709123109]}, {\"categories\": [\"0\", \"1\", \"2\", \"3\", \"4\", \"5\", \"6\", \"7\", \"8\", \"9\", \"10\", \"11\", \"12\", \"13\", \"14\", \"15\", \"16\", \"17\", \"18\", \"19\", \"20\", \"21\"], \"mode\": \"lines\", \"name\": \"average_precision_score_micro_max\", \"stepped\": true, \"type\": \"scatter\", \"data\": [0.8006776601089605, 0.8134038604985854, 0.8134038604985854, 0.8134038604985854, 0.8134038604985854, 0.8134038604985854, 0.8134038604985854, 0.8134038604985854, 0.8134038604985854, 0.8134038604985854, 0.8134038604985854, 0.8134038604985854, 0.8134038604985854, 0.8134038604985854, 0.8134038604985854, 0.8134038604985854, 0.8134038604985854, 0.8134038604985854, 0.8134038604985854, 0.8134038604985854, 0.8199314224652593, 0.8208473709123109]}], \"balanced_accuracy\": [{\"categories\": [\"0\", \"1\", \"2\", \"3\", \"4\", \"5\", \"6\", \"7\", \"8\", \"9\", \"10\", \"11\", \"12\", \"13\", \"14\", \"15\", \"16\", \"17\", \"18\", \"19\", \"20\", \"21\"], \"mode\": \"markers\", \"name\": \"balanced_accuracy\", \"stepped\": false, \"type\": \"scatter\", \"data\": [0.6454904206709543, 0.6206408496187036, 0.5492610489752213, 0.5209483621957233, 0.6868510552903382, 0.6921807524279423, 0.6413175402417215, 0.639768670701266, 0.5, 0.5962815934254634, 0.6272404933192968, 0.5336348859183759, 0.6232475902633604, 0.6239435599927521, 0.628610146898535, 0.5675240267325801, 0.6172462472320952, 0.5809882112720065, 0.6239435599927521, 0.5, 0.6642179373642845, 0.621409736582885]}, {\"categories\": [\"0\", \"1\", \"2\", \"3\", \"4\", \"5\", \"6\", \"7\", \"8\", \"9\", \"10\", \"11\", \"12\", \"13\", \"14\", \"15\", \"16\", \"17\", \"18\", \"19\", \"20\", \"21\"], \"mode\": \"lines\", \"name\": \"balanced_accuracy_max\", \"stepped\": true, \"type\": \"scatter\", \"data\": [0.6454904206709543, 0.6454904206709543, 0.6454904206709543, 0.6454904206709543, 0.6868510552903382, 0.6921807524279423, 0.6921807524279423, 0.6921807524279423, 0.6921807524279423, 0.6921807524279423, 0.6921807524279423, 0.6921807524279423, 0.6921807524279423, 0.6921807524279423, 0.6921807524279423, 0.6921807524279423, 0.6921807524279423, 0.6921807524279423, 0.6921807524279423, 0.6921807524279423, 0.6921807524279423, 0.6921807524279423]}], \"AUC_macro\": [{\"categories\": [\"0\", \"1\", \"2\", \"3\", \"4\", \"5\", \"6\", \"7\", \"8\", \"9\", \"10\", \"11\", \"12\", \"13\", \"14\", \"15\", \"16\", \"17\", \"18\", \"19\", \"20\", \"21\"], \"mode\": \"markers\", \"name\": \"AUC_macro\", \"stepped\": false, \"type\": \"scatter\", \"data\": [0.7383109052089196, 0.7598642320651458, 0.7563239634005495, 0.735467749833244, 0.7499239772677059, 0.7401310887819356, 0.7301098648447523, 0.7433415458334109, 0.7537061622899811, 0.7355768294445997, 0.7433405604989058, 0.7433976760131474, 0.7508249810068459, 0.7385759456590462, 0.7308984153664679, 0.7431636135328263, 0.7451692731706319, 0.7362326761356739, 0.738181146343621, 0.73537830997084, 0.7648920717234277, 0.7651741060610877]}, {\"categories\": [\"0\", \"1\", \"2\", \"3\", \"4\", \"5\", \"6\", \"7\", \"8\", \"9\", \"10\", \"11\", \"12\", \"13\", \"14\", \"15\", \"16\", \"17\", \"18\", \"19\", \"20\", \"21\"], \"mode\": \"lines\", \"name\": \"AUC_macro_max\", \"stepped\": true, \"type\": \"scatter\", \"data\": [0.7383109052089196, 0.7598642320651458, 0.7598642320651458, 0.7598642320651458, 0.7598642320651458, 0.7598642320651458, 0.7598642320651458, 0.7598642320651458, 0.7598642320651458, 0.7598642320651458, 0.7598642320651458, 0.7598642320651458, 0.7598642320651458, 0.7598642320651458, 0.7598642320651458, 0.7598642320651458, 0.7598642320651458, 0.7598642320651458, 0.7598642320651458, 0.7598642320651458, 0.7648920717234277, 0.7651741060610877]}], \"average_precision_score_macro\": [{\"categories\": [\"0\", \"1\", \"2\", \"3\", \"4\", \"5\", \"6\", \"7\", \"8\", \"9\", \"10\", \"11\", \"12\", \"13\", \"14\", \"15\", \"16\", \"17\", \"18\", \"19\", \"20\", \"21\"], \"mode\": \"markers\", \"name\": \"average_precision_score_macro\", \"stepped\": false, \"type\": \"scatter\", \"data\": [0.7086699515369941, 0.7217915105172518, 0.7099742836621628, 0.6917593577975085, 0.7064660894954418, 0.6979436160983854, 0.6932663185724861, 0.7074612036157535, 0.7076882271076068, 0.6899569058335158, 0.7029029594589611, 0.6969455037167803, 0.7076135385851734, 0.6953271454629559, 0.693519503275515, 0.6966209426392871, 0.7003173959191128, 0.6973004117300782, 0.6940520838469426, 0.6895780404800351, 0.7336945810886533, 0.7288892613012591]}, {\"categories\": [\"0\", \"1\", \"2\", \"3\", \"4\", \"5\", \"6\", \"7\", \"8\", \"9\", \"10\", \"11\", \"12\", \"13\", \"14\", \"15\", \"16\", \"17\", \"18\", \"19\", \"20\", \"21\"], \"mode\": \"lines\", \"name\": \"average_precision_score_macro_max\", \"stepped\": true, \"type\": \"scatter\", \"data\": [0.7086699515369941, 0.7217915105172518, 0.7217915105172518, 0.7217915105172518, 0.7217915105172518, 0.7217915105172518, 0.7217915105172518, 0.7217915105172518, 0.7217915105172518, 0.7217915105172518, 0.7217915105172518, 0.7217915105172518, 0.7217915105172518, 0.7217915105172518, 0.7217915105172518, 0.7217915105172518, 0.7217915105172518, 0.7217915105172518, 0.7217915105172518, 0.7217915105172518, 0.7336945810886533, 0.7336945810886533]}], \"f1_score_macro\": [{\"categories\": [\"0\", \"1\", \"2\", \"3\", \"4\", \"5\", \"6\", \"7\", \"8\", \"9\", \"10\", \"11\", \"12\", \"13\", \"14\", \"15\", \"16\", \"17\", \"18\", \"19\", \"20\", \"21\"], \"mode\": \"markers\", \"name\": \"f1_score_macro\", \"stepped\": false, \"type\": \"scatter\", \"data\": [0.6525063104757582, 0.6273611280180111, 0.5244239210716465, 0.4637024923459131, 0.6605370773479857, 0.6584200795854038, 0.6462544508487056, 0.6462982454125745, 0.41138439996014975, 0.5934755478863488, 0.6328615631027319, 0.4989612780272042, 0.6306507426028475, 0.6313671685204856, 0.6349584408573143, 0.5534112285621798, 0.6218355371162081, 0.5738533111000098, 0.6313671685204856, 0.41138439996014975, 0.674320081787832, 0.6293484783095111]}, {\"categories\": [\"0\", \"1\", \"2\", \"3\", \"4\", \"5\", \"6\", \"7\", \"8\", \"9\", \"10\", \"11\", \"12\", \"13\", \"14\", \"15\", \"16\", \"17\", \"18\", \"19\", \"20\", \"21\"], \"mode\": \"lines\", \"name\": \"f1_score_macro_max\", \"stepped\": true, \"type\": \"scatter\", \"data\": [0.6525063104757582, 0.6525063104757582, 0.6525063104757582, 0.6525063104757582, 0.6605370773479857, 0.6605370773479857, 0.6605370773479857, 0.6605370773479857, 0.6605370773479857, 0.6605370773479857, 0.6605370773479857, 0.6605370773479857, 0.6605370773479857, 0.6605370773479857, 0.6605370773479857, 0.6605370773479857, 0.6605370773479857, 0.6605370773479857, 0.6605370773479857, 0.6605370773479857, 0.674320081787832, 0.674320081787832]}], \"recall_score_micro\": [{\"categories\": [\"0\", \"1\", \"2\", \"3\", \"4\", \"5\", \"6\", \"7\", \"8\", \"9\", \"10\", \"11\", \"12\", \"13\", \"14\", \"15\", \"16\", \"17\", \"18\", \"19\", \"20\", \"21\"], \"mode\": \"markers\", \"name\": \"recall_score_micro\", \"stepped\": false, \"type\": \"scatter\", \"data\": [0.7293327474734793, 0.7281840436884063, 0.710313225786203, 0.7013746783001695, 0.6868244303559099, 0.6812566693867302, 0.7248571966605988, 0.7282154290377252, 0.6991463184985249, 0.7282342602473166, 0.7203941999874458, 0.7035904839620863, 0.7204067541271735, 0.7170547988199109, 0.7237336011549809, 0.7136902893729207, 0.7248509195907351, 0.7136902893729207, 0.7170547988199109, 0.6991463184985249, 0.7517356098173373, 0.7371539765237587]}, {\"categories\": [\"0\", \"1\", \"2\", \"3\", \"4\", \"5\", \"6\", \"7\", \"8\", \"9\", \"10\", \"11\", \"12\", \"13\", \"14\", \"15\", \"16\", \"17\", \"18\", \"19\", \"20\", \"21\"], \"mode\": \"lines\", \"name\": \"recall_score_micro_max\", \"stepped\": true, \"type\": \"scatter\", \"data\": [0.7293327474734793, 0.7293327474734793, 0.7293327474734793, 0.7293327474734793, 0.7293327474734793, 0.7293327474734793, 0.7293327474734793, 0.7293327474734793, 0.7293327474734793, 0.7293327474734793, 0.7293327474734793, 0.7293327474734793, 0.7293327474734793, 0.7293327474734793, 0.7293327474734793, 0.7293327474734793, 0.7293327474734793, 0.7293327474734793, 0.7293327474734793, 0.7293327474734793, 0.7517356098173373, 0.7517356098173373]}], \"precision_score_macro\": [{\"categories\": [\"0\", \"1\", \"2\", \"3\", \"4\", \"5\", \"6\", \"7\", \"8\", \"9\", \"10\", \"11\", \"12\", \"13\", \"14\", \"15\", \"16\", \"17\", \"18\", \"19\", \"20\", \"21\"], \"mode\": \"markers\", \"name\": \"precision_score_macro\", \"stepped\": false, \"type\": \"scatter\", \"data\": [0.6723777790805502, 0.6696564488594932, 0.662813475643948, 0.7138687166228769, 0.6614931069719285, 0.6647821788634483, 0.666520067454511, 0.6740658981980848, 0.34957315924926247, 0.6865149515374879, 0.6595997167558735, 0.6460549377799909, 0.6573031551415351, 0.6537748305232755, 0.6646636305026689, 0.6574644048223454, 0.6634969791169814, 0.6377406380703436, 0.6537748305232755, 0.34957315924926247, 0.7050518999142408, 0.6899267810470141]}, {\"categories\": [\"0\", \"1\", \"2\", \"3\", \"4\", \"5\", \"6\", \"7\", \"8\", \"9\", \"10\", \"11\", \"12\", \"13\", \"14\", \"15\", \"16\", \"17\", \"18\", \"19\", \"20\", \"21\"], \"mode\": \"lines\", \"name\": \"precision_score_macro_max\", \"stepped\": true, \"type\": \"scatter\", \"data\": [0.6723777790805502, 0.6723777790805502, 0.6723777790805502, 0.7138687166228769, 0.7138687166228769, 0.7138687166228769, 0.7138687166228769, 0.7138687166228769, 0.7138687166228769, 0.7138687166228769, 0.7138687166228769, 0.7138687166228769, 0.7138687166228769, 0.7138687166228769, 0.7138687166228769, 0.7138687166228769, 0.7138687166228769, 0.7138687166228769, 0.7138687166228769, 0.7138687166228769, 0.7138687166228769, 0.7138687166228769]}], \"recall_score_macro\": [{\"categories\": [\"0\", \"1\", \"2\", \"3\", \"4\", \"5\", \"6\", \"7\", \"8\", \"9\", \"10\", \"11\", \"12\", \"13\", \"14\", \"15\", \"16\", \"17\", \"18\", \"19\", \"20\", \"21\"], \"mode\": \"markers\", \"name\": \"recall_score_macro\", \"stepped\": false, \"type\": \"scatter\", \"data\": [0.6454904206709543, 0.6206408496187036, 0.5492610489752213, 0.5209483621957233, 0.6868510552903382, 0.6921807524279423, 0.6413175402417215, 0.639768670701266, 0.5, 0.5962815934254634, 0.6272404933192968, 0.5336348859183759, 0.6232475902633604, 0.6239435599927521, 0.628610146898535, 0.5675240267325801, 0.6172462472320952, 0.5809882112720065, 0.6239435599927521, 0.5, 0.6642179373642845, 0.621409736582885]}, {\"categories\": [\"0\", \"1\", \"2\", \"3\", \"4\", \"5\", \"6\", \"7\", \"8\", \"9\", \"10\", \"11\", \"12\", \"13\", \"14\", \"15\", \"16\", \"17\", \"18\", \"19\", \"20\", \"21\"], \"mode\": \"lines\", \"name\": \"recall_score_macro_max\", \"stepped\": true, \"type\": \"scatter\", \"data\": [0.6454904206709543, 0.6454904206709543, 0.6454904206709543, 0.6454904206709543, 0.6868510552903382, 0.6921807524279423, 0.6921807524279423, 0.6921807524279423, 0.6921807524279423, 0.6921807524279423, 0.6921807524279423, 0.6921807524279423, 0.6921807524279423, 0.6921807524279423, 0.6921807524279423, 0.6921807524279423, 0.6921807524279423, 0.6921807524279423, 0.6921807524279423, 0.6921807524279423, 0.6921807524279423, 0.6921807524279423]}], \"weighted_accuracy\": [{\"categories\": [\"0\", \"1\", \"2\", \"3\", \"4\", \"5\", \"6\", \"7\", \"8\", \"9\", \"10\", \"11\", \"12\", \"13\", \"14\", \"15\", \"16\", \"17\", \"18\", \"19\", \"20\", \"21\"], \"mode\": \"markers\", \"name\": \"weighted_accuracy\", \"stepped\": false, \"type\": \"scatter\", \"data\": [0.7900790392197455, 0.8058076896736956, 0.8263361335532841, 0.8313789534168949, 0.686992436156647, 0.6734393283806585, 0.7855132665025575, 0.7924480497001786, 0.8425396893379509, 0.8241281963152802, 0.7881295910226809, 0.8259257976289731, 0.7902971635165893, 0.7839645655962301, 0.792597122403035, 0.8197350615397733, 0.8028575031264387, 0.8099384755355393, 0.7839645655962301, 0.8425396893379509, 0.8152871297432019, 0.8201030276255341]}, {\"categories\": [\"0\", \"1\", \"2\", \"3\", \"4\", \"5\", \"6\", \"7\", \"8\", \"9\", \"10\", \"11\", \"12\", \"13\", \"14\", \"15\", \"16\", \"17\", \"18\", \"19\", \"20\", \"21\"], \"mode\": \"lines\", \"name\": \"weighted_accuracy_max\", \"stepped\": true, \"type\": \"scatter\", \"data\": [0.7900790392197455, 0.8058076896736956, 0.8263361335532841, 0.8313789534168949, 0.8313789534168949, 0.8313789534168949, 0.8313789534168949, 0.8313789534168949, 0.8425396893379509, 0.8425396893379509, 0.8425396893379509, 0.8425396893379509, 0.8425396893379509, 0.8425396893379509, 0.8425396893379509, 0.8425396893379509, 0.8425396893379509, 0.8425396893379509, 0.8425396893379509, 0.8425396893379509, 0.8425396893379509, 0.8425396893379509]}], \"AUC_weighted\": [{\"categories\": [\"0\", \"1\", \"2\", \"3\", \"4\", \"5\", \"6\", \"7\", \"8\", \"9\", \"10\", \"11\", \"12\", \"13\", \"14\", \"15\", \"16\", \"17\", \"18\", \"19\", \"20\", \"21\"], \"mode\": \"markers\", \"name\": \"AUC_weighted\", \"stepped\": false, \"type\": \"scatter\", \"data\": [0.7383109052089196, 0.7598642320651458, 0.7563239634005495, 0.735467749833244, 0.7499239772677059, 0.7401310887819356, 0.7301098648447524, 0.7433415458334112, 0.7537061622899811, 0.7355768294445997, 0.7433405604989058, 0.7433976760131474, 0.7508249810068459, 0.7385759456590462, 0.7308984153664679, 0.7431636135328263, 0.7451692731706319, 0.7362326761356741, 0.738181146343621, 0.73537830997084, 0.7648920717234277, 0.7651741060610877]}, {\"categories\": [\"0\", \"1\", \"2\", \"3\", \"4\", \"5\", \"6\", \"7\", \"8\", \"9\", \"10\", \"11\", \"12\", \"13\", \"14\", \"15\", \"16\", \"17\", \"18\", \"19\", \"20\", \"21\"], \"mode\": \"lines\", \"name\": \"AUC_weighted_max\", \"stepped\": true, \"type\": \"scatter\", \"data\": [0.7383109052089196, 0.7598642320651458, 0.7598642320651458, 0.7598642320651458, 0.7598642320651458, 0.7598642320651458, 0.7598642320651458, 0.7598642320651458, 0.7598642320651458, 0.7598642320651458, 0.7598642320651458, 0.7598642320651458, 0.7598642320651458, 0.7598642320651458, 0.7598642320651458, 0.7598642320651458, 0.7598642320651458, 0.7598642320651458, 0.7598642320651458, 0.7598642320651458, 0.7648920717234277, 0.7651741060610877]}], \"f1_score_weighted\": [{\"categories\": [\"0\", \"1\", \"2\", \"3\", \"4\", \"5\", \"6\", \"7\", \"8\", \"9\", \"10\", \"11\", \"12\", \"13\", \"14\", \"15\", \"16\", \"17\", \"18\", \"19\", \"20\", \"21\"], \"mode\": \"markers\", \"name\": \"f1_score_weighted\", \"stepped\": false, \"type\": \"scatter\", \"data\": [0.7175284204151209, 0.7048095240606138, 0.6430332007945834, 0.6055559385235982, 0.6976680942845881, 0.6923309792136866, 0.7124909420770409, 0.7137802680833252, 0.5755238370767504, 0.6858277562935425, 0.7037742756053307, 0.6269134739334621, 0.7031812850557697, 0.702160675029128, 0.7065479865605889, 0.6592172739672956, 0.7001159330723133, 0.6704614558658561, 0.702160675029128, 0.5755238370767504, 0.7372161616181959, 0.7095499092778066]}, {\"categories\": [\"0\", \"1\", \"2\", \"3\", \"4\", \"5\", \"6\", \"7\", \"8\", \"9\", \"10\", \"11\", \"12\", \"13\", \"14\", \"15\", \"16\", \"17\", \"18\", \"19\", \"20\", \"21\"], \"mode\": \"lines\", \"name\": \"f1_score_weighted_max\", \"stepped\": true, \"type\": \"scatter\", \"data\": [0.7175284204151209, 0.7175284204151209, 0.7175284204151209, 0.7175284204151209, 0.7175284204151209, 0.7175284204151209, 0.7175284204151209, 0.7175284204151209, 0.7175284204151209, 0.7175284204151209, 0.7175284204151209, 0.7175284204151209, 0.7175284204151209, 0.7175284204151209, 0.7175284204151209, 0.7175284204151209, 0.7175284204151209, 0.7175284204151209, 0.7175284204151209, 0.7175284204151209, 0.7372161616181959, 0.7372161616181959]}], \"average_precision_score_weighted\": [{\"categories\": [\"0\", \"1\", \"2\", \"3\", \"4\", \"5\", \"6\", \"7\", \"8\", \"9\", \"10\", \"11\", \"12\", \"13\", \"14\", \"15\", \"16\", \"17\", \"18\", \"19\", \"20\", \"21\"], \"mode\": \"markers\", \"name\": \"average_precision_score_weighted\", \"stepped\": false, \"type\": \"scatter\", \"data\": [0.7695943408427397, 0.7831780626245747, 0.7777177266436615, 0.7603160972915706, 0.7741126914414219, 0.7622761093585175, 0.7589701388407161, 0.7689041550074989, 0.774646986872163, 0.7593044341219285, 0.7674998047936532, 0.7652931117104995, 0.7716579288326546, 0.7590641039972917, 0.760688151177455, 0.7664494428949666, 0.765761336736107, 0.7615460187652552, 0.7578216387135847, 0.7591531248731188, 0.7915698638156407, 0.7894106785513134]}, {\"categories\": [\"0\", \"1\", \"2\", \"3\", \"4\", \"5\", \"6\", \"7\", \"8\", \"9\", \"10\", \"11\", \"12\", \"13\", \"14\", \"15\", \"16\", \"17\", \"18\", \"19\", \"20\", \"21\"], \"mode\": \"lines\", \"name\": \"average_precision_score_weighted_max\", \"stepped\": true, \"type\": \"scatter\", \"data\": [0.7695943408427397, 0.7831780626245747, 0.7831780626245747, 0.7831780626245747, 0.7831780626245747, 0.7831780626245747, 0.7831780626245747, 0.7831780626245747, 0.7831780626245747, 0.7831780626245747, 0.7831780626245747, 0.7831780626245747, 0.7831780626245747, 0.7831780626245747, 0.7831780626245747, 0.7831780626245747, 0.7831780626245747, 0.7831780626245747, 0.7831780626245747, 0.7831780626245747, 0.7915698638156407, 0.7915698638156407]}], \"recall_score_weighted\": [{\"categories\": [\"0\", \"1\", \"2\", \"3\", \"4\", \"5\", \"6\", \"7\", \"8\", \"9\", \"10\", \"11\", \"12\", \"13\", \"14\", \"15\", \"16\", \"17\", \"18\", \"19\", \"20\", \"21\"], \"mode\": \"markers\", \"name\": \"recall_score_weighted\", \"stepped\": false, \"type\": \"scatter\", \"data\": [0.7293327474734793, 0.7281840436884063, 0.710313225786203, 0.7013746783001695, 0.6868244303559099, 0.6812566693867302, 0.7248571966605988, 0.7282154290377252, 0.6991463184985249, 0.7282342602473166, 0.7203941999874458, 0.7035904839620863, 0.7204067541271735, 0.7170547988199109, 0.7237336011549809, 0.7136902893729207, 0.7248509195907351, 0.7136902893729207, 0.7170547988199109, 0.6991463184985249, 0.7517356098173373, 0.7371539765237587]}, {\"categories\": [\"0\", \"1\", \"2\", \"3\", \"4\", \"5\", \"6\", \"7\", \"8\", \"9\", \"10\", \"11\", \"12\", \"13\", \"14\", \"15\", \"16\", \"17\", \"18\", \"19\", \"20\", \"21\"], \"mode\": \"lines\", \"name\": \"recall_score_weighted_max\", \"stepped\": true, \"type\": \"scatter\", \"data\": [0.7293327474734793, 0.7293327474734793, 0.7293327474734793, 0.7293327474734793, 0.7293327474734793, 0.7293327474734793, 0.7293327474734793, 0.7293327474734793, 0.7293327474734793, 0.7293327474734793, 0.7293327474734793, 0.7293327474734793, 0.7293327474734793, 0.7293327474734793, 0.7293327474734793, 0.7293327474734793, 0.7293327474734793, 0.7293327474734793, 0.7293327474734793, 0.7293327474734793, 0.7517356098173373, 0.7517356098173373]}], \"matthews_correlation\": [{\"categories\": [\"0\", \"1\", \"2\", \"3\", \"4\", \"5\", \"6\", \"7\", \"8\", \"9\", \"10\", \"11\", \"12\", \"13\", \"14\", \"15\", \"16\", \"17\", \"18\", \"19\", \"20\", \"21\"], \"mode\": \"markers\", \"name\": \"matthews_correlation\", \"stepped\": false, \"type\": \"scatter\", \"data\": [0.3164929391399591, 0.28580343597639024, 0.17454877185708045, 0.11144328036394535, 0.3472992428266606, 0.35580138773397724, 0.306083224473587, 0.3109935750960508, 0.0, 0.26507343106149295, 0.28442983220819273, 0.13914343868153634, 0.2784237352277789, 0.27608585568466715, 0.29040773509042783, 0.20337809386188596, 0.2761994279976338, 0.21026693368924287, 0.27608585568466715, 0.0, 0.3667165794377057, 0.30302345116176793]}, {\"categories\": [\"0\", \"1\", \"2\", \"3\", \"4\", \"5\", \"6\", \"7\", \"8\", \"9\", \"10\", \"11\", \"12\", \"13\", \"14\", \"15\", \"16\", \"17\", \"18\", \"19\", \"20\", \"21\"], \"mode\": \"lines\", \"name\": \"matthews_correlation_max\", \"stepped\": true, \"type\": \"scatter\", \"data\": [0.3164929391399591, 0.3164929391399591, 0.3164929391399591, 0.3164929391399591, 0.3472992428266606, 0.35580138773397724, 0.35580138773397724, 0.35580138773397724, 0.35580138773397724, 0.35580138773397724, 0.35580138773397724, 0.35580138773397724, 0.35580138773397724, 0.35580138773397724, 0.35580138773397724, 0.35580138773397724, 0.35580138773397724, 0.35580138773397724, 0.35580138773397724, 0.35580138773397724, 0.3667165794377057, 0.3667165794377057]}], \"AUC_micro\": [{\"categories\": [\"0\", \"1\", \"2\", \"3\", \"4\", \"5\", \"6\", \"7\", \"8\", \"9\", \"10\", \"11\", \"12\", \"13\", \"14\", \"15\", \"16\", \"17\", \"18\", \"19\", \"20\", \"21\"], \"mode\": \"markers\", \"name\": \"AUC_micro\", \"stepped\": false, \"type\": \"scatter\", \"data\": [0.8049381300023761, 0.81665378838306, 0.8089957129121913, 0.7976394182587697, 0.7645598656792945, 0.7418409817688729, 0.7978367889809279, 0.8060138470403884, 0.8054356791023034, 0.8002681452660461, 0.805175730552369, 0.8019091589194869, 0.811582082010889, 0.8037323683575298, 0.798521457490153, 0.8028800276927095, 0.8060968567680027, 0.8003463548930003, 0.8034448142543476, 0.7979317023277535, 0.8219852669829779, 0.8220814992985668]}, {\"categories\": [\"0\", \"1\", \"2\", \"3\", \"4\", \"5\", \"6\", \"7\", \"8\", \"9\", \"10\", \"11\", \"12\", \"13\", \"14\", \"15\", \"16\", \"17\", \"18\", \"19\", \"20\", \"21\"], \"mode\": \"lines\", \"name\": \"AUC_micro_max\", \"stepped\": true, \"type\": \"scatter\", \"data\": [0.8049381300023761, 0.81665378838306, 0.81665378838306, 0.81665378838306, 0.81665378838306, 0.81665378838306, 0.81665378838306, 0.81665378838306, 0.81665378838306, 0.81665378838306, 0.81665378838306, 0.81665378838306, 0.81665378838306, 0.81665378838306, 0.81665378838306, 0.81665378838306, 0.81665378838306, 0.81665378838306, 0.81665378838306, 0.81665378838306, 0.8219852669829779, 0.8220814992985668]}]}, \"metricName\": null, \"primaryMetricName\": \"accuracy\", \"showLegend\": false}, \"run_metrics\": [{\"name\": \"experiment_status\", \"run_id\": \"AutoML_8762cd0f-af98-40d1-a9a7-76f69ba20488\", \"categories\": [0, 1, 2, 3, 4, 5, 6, 7, 8, 9, 10, 11, 12, 13], \"series\": [{\"data\": [\"DatasetEvaluation\", \"FeaturesGeneration\", \"DatasetFeaturization\", \"DatasetFeaturizationCompleted\", \"DatasetCrossValidationSplit\", \"ModelSelection\", \"BestRunExplainModel\", \"ModelExplanationDataSetSetup\", \"PickSurrogateModel\", \"EngineeredFeatureExplanations\", \"EngineeredFeatureExplanations\", \"RawFeaturesExplanations\", \"RawFeaturesExplanations\", \"BestRunExplainModel\"]}]}, {\"name\": \"experiment_status_description\", \"run_id\": \"AutoML_8762cd0f-af98-40d1-a9a7-76f69ba20488\", \"categories\": [0, 1, 2, 3, 4, 5, 6, 7, 8, 9, 10, 11, 12, 13], \"series\": [{\"data\": [\"Gathering dataset statistics.\", \"Generating features for the dataset.\", \"Beginning to fit featurizers and featurize the dataset.\", \"Completed fit featurizers and featurizing the dataset.\", \"Generating individually featurized CV splits.\", \"Beginning model selection.\", \"Best run model explanations started\", \"Model explanations data setup completed\", \"Choosing LightGBM as the surrogate model for explanations\", \"Computation of engineered features started\", \"Computation of engineered features completed\", \"Computation of raw features started\", \"Computation of raw features completed\", \"Best run model explanations completed\"]}]}, {\"name\": \"precision_score_micro\", \"run_id\": \"AutoML_8762cd0f-af98-40d1-a9a7-76f69ba20488\", \"categories\": [0], \"series\": [{\"data\": [0.7517356098173373]}]}, {\"name\": \"recall_score_micro\", \"run_id\": \"AutoML_8762cd0f-af98-40d1-a9a7-76f69ba20488\", \"categories\": [0], \"series\": [{\"data\": [0.7517356098173373]}]}, {\"name\": \"f1_score_micro\", \"run_id\": \"AutoML_8762cd0f-af98-40d1-a9a7-76f69ba20488\", \"categories\": [0], \"series\": [{\"data\": [0.7517356098173373]}]}, {\"name\": \"log_loss\", \"run_id\": \"AutoML_8762cd0f-af98-40d1-a9a7-76f69ba20488\", \"categories\": [0], \"series\": [{\"data\": [0.5200827022800689]}]}, {\"name\": \"recall_score_weighted\", \"run_id\": \"AutoML_8762cd0f-af98-40d1-a9a7-76f69ba20488\", \"categories\": [0], \"series\": [{\"data\": [0.7517356098173373]}]}, {\"name\": \"f1_score_weighted\", \"run_id\": \"AutoML_8762cd0f-af98-40d1-a9a7-76f69ba20488\", \"categories\": [0], \"series\": [{\"data\": [0.7372161616181959]}]}, {\"name\": \"precision_score_macro\", \"run_id\": \"AutoML_8762cd0f-af98-40d1-a9a7-76f69ba20488\", \"categories\": [0], \"series\": [{\"data\": [0.7050518999142408]}]}, {\"name\": \"average_precision_score_weighted\", \"run_id\": \"AutoML_8762cd0f-af98-40d1-a9a7-76f69ba20488\", \"categories\": [0], \"series\": [{\"data\": [0.7915698638156407]}]}, {\"name\": \"AUC_weighted\", \"run_id\": \"AutoML_8762cd0f-af98-40d1-a9a7-76f69ba20488\", \"categories\": [0], \"series\": [{\"data\": [0.7648920717234277]}]}, {\"name\": \"accuracy\", \"run_id\": \"AutoML_8762cd0f-af98-40d1-a9a7-76f69ba20488\", \"categories\": [0], \"series\": [{\"data\": [0.7517356098173373]}]}, {\"name\": \"precision_score_weighted\", \"run_id\": \"AutoML_8762cd0f-af98-40d1-a9a7-76f69ba20488\", \"categories\": [0], \"series\": [{\"data\": [0.7380148189381395]}]}, {\"name\": \"recall_score_macro\", \"run_id\": \"AutoML_8762cd0f-af98-40d1-a9a7-76f69ba20488\", \"categories\": [0], \"series\": [{\"data\": [0.6642179373642845]}]}, {\"name\": \"average_precision_score_macro\", \"run_id\": \"AutoML_8762cd0f-af98-40d1-a9a7-76f69ba20488\", \"categories\": [0], \"series\": [{\"data\": [0.7336945810886533]}]}, {\"name\": \"matthews_correlation\", \"run_id\": \"AutoML_8762cd0f-af98-40d1-a9a7-76f69ba20488\", \"categories\": [0], \"series\": [{\"data\": [0.3667165794377057]}]}, {\"name\": \"weighted_accuracy\", \"run_id\": \"AutoML_8762cd0f-af98-40d1-a9a7-76f69ba20488\", \"categories\": [0], \"series\": [{\"data\": [0.8152871297432019]}]}, {\"name\": \"AUC_macro\", \"run_id\": \"AutoML_8762cd0f-af98-40d1-a9a7-76f69ba20488\", \"categories\": [0], \"series\": [{\"data\": [0.7648920717234277]}]}, {\"name\": \"AUC_micro\", \"run_id\": \"AutoML_8762cd0f-af98-40d1-a9a7-76f69ba20488\", \"categories\": [0], \"series\": [{\"data\": [0.8219852669829779]}]}, {\"name\": \"average_precision_score_micro\", \"run_id\": \"AutoML_8762cd0f-af98-40d1-a9a7-76f69ba20488\", \"categories\": [0], \"series\": [{\"data\": [0.8199314224652593]}]}, {\"name\": \"norm_macro_recall\", \"run_id\": \"AutoML_8762cd0f-af98-40d1-a9a7-76f69ba20488\", \"categories\": [0], \"series\": [{\"data\": [0.32843587472856905]}]}, {\"name\": \"balanced_accuracy\", \"run_id\": \"AutoML_8762cd0f-af98-40d1-a9a7-76f69ba20488\", \"categories\": [0], \"series\": [{\"data\": [0.6642179373642845]}]}, {\"name\": \"f1_score_macro\", \"run_id\": \"AutoML_8762cd0f-af98-40d1-a9a7-76f69ba20488\", \"categories\": [0], \"series\": [{\"data\": [0.674320081787832]}]}], \"run_logs\": \"\\nRun is completed.\", \"graph\": {}, \"widget_settings\": {\"childWidgetDisplay\": \"popup\", \"send_telemetry\": false, \"log_level\": \"INFO\", \"sdk_version\": \"1.19.0\"}, \"loading\": false}"
          },
          "metadata": {}
        }
      ],
      "execution_count": 16,
      "metadata": {}
    },
    {
      "cell_type": "markdown",
      "source": [
        "## Retrieve the 'Best Model' (Scikit-Learn model)"
      ],
      "metadata": {}
    },
    {
      "cell_type": "code",
      "source": [
        "best_run, fitted_model = run.get_output()\n",
        "print(best_run)\n",
        "print(fitted_model)"
      ],
      "outputs": [
        {
          "output_type": "stream",
          "name": "stderr",
          "text": [
            "WARNING:root:The version of the SDK does not match the version the model was trained on.\n",
            "WARNING:root:The consistency in the result may not be guaranteed.\n",
            "WARNING:root:Package:azureml-automl-core, training version:1.26.0, current version:1.19.0\n",
            "Package:azureml-automl-runtime, training version:1.26.0, current version:1.19.0\n",
            "Package:azureml-core, training version:1.26.0, current version:1.19.0\n",
            "Package:azureml-dataprep, training version:2.13.2, current version:2.6.1\n",
            "Package:azureml-dataprep-native, training version:32.0.0, current version:26.0.0\n",
            "Package:azureml-dataprep-rslex, training version:1.11.2, current version:1.4.0\n",
            "Package:azureml-dataset-runtime, training version:1.26.0, current version:1.19.0\n",
            "Package:azureml-defaults, training version:1.26.0, current version:1.19.0\n",
            "Package:azureml-interpret, training version:1.26.0, current version:1.19.0\n",
            "Package:azureml-mlflow, training version:1.26.0, current version:1.19.0\n",
            "Package:azureml-pipeline-core, training version:1.26.0, current version:1.19.0\n",
            "Package:azureml-telemetry, training version:1.26.0, current version:1.19.0\n",
            "Package:azureml-train-automl-client, training version:1.26.0, current version:1.19.0\n",
            "Package:azureml-train-automl-runtime, training version:1.26.0, current version:1.19.0\n",
            "WARNING:root:Please ensure the version of your local conda dependencies match the version on which your model was trained in order to properly retrieve your model.\n"
          ]
        },
        {
          "output_type": "stream",
          "name": "stdout",
          "text": [
            "Run(Experiment: credit-automl-remote-04-18-2021-20,\n",
            "Id: AutoML_8762cd0f-af98-40d1-a9a7-76f69ba20488_20,\n",
            "Type: azureml.scriptrun,\n",
            "Status: Completed)\n",
            "Pipeline(memory=None,\n",
            "         steps=[('datatransformer',\n",
            "                 DataTransformer(enable_dnn=None, enable_feature_sweeping=None,\n",
            "                                 feature_sweeping_config=None,\n",
            "                                 feature_sweeping_timeout=None,\n",
            "                                 featurization_config=None, force_text_dnn=None,\n",
            "                                 is_cross_validation=None,\n",
            "                                 is_onnx_compatible=None, logger=None,\n",
            "                                 observer=None, task=None, working_dir=None)),\n",
            "                ('prefittedsoftvotingclassifier',...\n",
            "                                                                                                    min_samples_split=0.01,\n",
            "                                                                                                    min_weight_fraction_leaf=0.0,\n",
            "                                                                                                    n_estimators=25,\n",
            "                                                                                                    n_jobs=1,\n",
            "                                                                                                    oob_score=True,\n",
            "                                                                                                    random_state=None,\n",
            "                                                                                                    verbose=0,\n",
            "                                                                                                    warm_start=False))],\n",
            "                                                                     verbose=False))],\n",
            "                                               flatten_transform=None,\n",
            "                                               weights=[0.36363636363636365,\n",
            "                                                        0.09090909090909091,\n",
            "                                                        0.09090909090909091,\n",
            "                                                        0.09090909090909091,\n",
            "                                                        0.09090909090909091,\n",
            "                                                        0.09090909090909091,\n",
            "                                                        0.09090909090909091,\n",
            "                                                        0.09090909090909091]))],\n",
            "         verbose=False)\n",
            "Y_transformer(['LabelEncoder', LabelEncoder()])\n"
          ]
        }
      ],
      "execution_count": 26,
      "metadata": {}
    },
    {
      "cell_type": "markdown",
      "source": [
        "## Make Predictions"
      ],
      "metadata": {}
    },
    {
      "cell_type": "markdown",
      "source": [
        "### Extract X values (feature columns) from test dataset and convert to NumPi array for predicting "
      ],
      "metadata": {}
    },
    {
      "cell_type": "code",
      "source": [
        "import pandas as pd\n",
        "\n",
        "#Remove Label/y column\n",
        "if 'Risk' in test_dataset_df.columns:\n",
        "    y_test_df = test_dataset_df.pop('Risk')\n",
        "\n",
        "x_test_df = test_dataset_df"
      ],
      "outputs": [],
      "execution_count": 22,
      "metadata": {}
    },
    {
      "cell_type": "code",
      "source": [
        "print(test_dataset_df)"
      ],
      "outputs": [
        {
          "output_type": "stream",
          "name": "stdout",
          "text": [
            "     Age     Sex  Job Housing Saving accounts Checking account  Credit amount  \\\n",
            "0    48   male    1    rent    little          little           2241            \n",
            "1    36   male    1    own     little          little           1374            \n",
            "2    37   male    2    own     little          rich             2100            \n",
            "3    52   male    3    own     NA              moderate         6468            \n",
            "4    25   male    2    own     little          moderate         14421           \n",
            "..   ..    ...   ..    ...        ...               ...           ...           \n",
            "101  46   female  2    rent    little          little           1845            \n",
            "102  43   male    1    own     little          NA               1533            \n",
            "103  30   male    2    rent    little          NA               1740            \n",
            "104  33   female  2    own     little          NA               2831            \n",
            "105  47   male    1    own     little          NA               2538            \n",
            "\n",
            "     Duration              Purpose  \n",
            "0    10        car                  \n",
            "1    6         furniture/equipment  \n",
            "2    18        radio/TV             \n",
            "3    12        radio/TV             \n",
            "4    48        business             \n",
            "..   ..             ...             \n",
            "101  15        furniture/equipment  \n",
            "102  18        furniture/equipment  \n",
            "103  6         radio/TV             \n",
            "104  30        radio/TV             \n",
            "105  24        car                  \n",
            "\n",
            "[106 rows x 9 columns]\n"
          ]
        }
      ],
      "execution_count": 24,
      "metadata": {}
    },
    {
      "cell_type": "markdown",
      "source": [
        "### Make the actual Predictions"
      ],
      "metadata": {}
    },
    {
      "cell_type": "code",
      "source": [
        "# Try the best model\n",
        "y_predictions = fitted_model.predict(x_test_df)\n",
        "\n",
        "print('10 predictions: ')\n",
        "print(y_predictions[:10])"
      ],
      "outputs": [
        {
          "output_type": "error",
          "ename": "TransformException",
          "evalue": "TransformException:\n\tMessage: Failed while applying learned transformations.\n\tInnerException: TypeError: Job: _wrap_in_lst() missing 1 required positional argument: 'x'\n\tErrorResponse \n{\n    \"error\": {\n        \"code\": \"System\",\n        \"inner_error\": {\n            \"code\": \"Transform\"\n        },\n        \"message\": \"Failed while applying learned transformations.\",\n        \"target\": \"DataTransformer.transform\",\n        \"reference_code\": \"e5bbc77b-2264-418d-bdb3-39ea0f09eae8\"\n    }\n}",
          "traceback": [
            "\u001b[0;31m---------------------------------------------------------------------------\u001b[0m",
            "\u001b[0;31mTypeError\u001b[0m                                 Traceback (most recent call last)",
            "\u001b[0;32m/anaconda/envs/azureml_py36/lib/python3.6/site-packages/azureml/automl/runtime/featurization/data_transformer.py\u001b[0m in \u001b[0;36mtransform\u001b[0;34m(self, df)\u001b[0m\n\u001b[1;32m    430\u001b[0m         \u001b[0;32mtry\u001b[0m\u001b[0;34m:\u001b[0m\u001b[0;34m\u001b[0m\u001b[0;34m\u001b[0m\u001b[0m\n\u001b[0;32m--> 431\u001b[0;31m             \u001b[0mfeatures\u001b[0m \u001b[0;34m=\u001b[0m \u001b[0mself\u001b[0m\u001b[0;34m.\u001b[0m\u001b[0m_apply_transforms\u001b[0m\u001b[0;34m(\u001b[0m\u001b[0mdf\u001b[0m\u001b[0;34m)\u001b[0m\u001b[0;34m\u001b[0m\u001b[0;34m\u001b[0m\u001b[0m\n\u001b[0m\u001b[1;32m    432\u001b[0m         \u001b[0;32mexcept\u001b[0m \u001b[0mAutoMLException\u001b[0m\u001b[0;34m:\u001b[0m\u001b[0;34m\u001b[0m\u001b[0;34m\u001b[0m\u001b[0m\n",
            "\u001b[0;32m/anaconda/envs/azureml_py36/lib/python3.6/site-packages/azureml/automl/runtime/featurization/data_transformer.py\u001b[0m in \u001b[0;36m_apply_transforms\u001b[0;34m(self, df)\u001b[0m\n\u001b[1;32m    535\u001b[0m                     \u001b[0;32mtry\u001b[0m\u001b[0;34m:\u001b[0m\u001b[0;34m\u001b[0m\u001b[0;34m\u001b[0m\u001b[0m\n\u001b[0;32m--> 536\u001b[0;31m                         \u001b[0mtransform_output\u001b[0m \u001b[0;34m=\u001b[0m \u001b[0mtransformer_mapper\u001b[0m\u001b[0;34m.\u001b[0m\u001b[0mmapper\u001b[0m\u001b[0;34m.\u001b[0m\u001b[0mtransform\u001b[0m\u001b[0;34m(\u001b[0m\u001b[0mdf\u001b[0m\u001b[0;34m)\u001b[0m\u001b[0;34m\u001b[0m\u001b[0;34m\u001b[0m\u001b[0m\n\u001b[0m\u001b[1;32m    537\u001b[0m                         \u001b[0mfeatures\u001b[0m\u001b[0;34m.\u001b[0m\u001b[0mappend\u001b[0m\u001b[0;34m(\u001b[0m\u001b[0mtransform_output\u001b[0m\u001b[0;34m)\u001b[0m\u001b[0;34m\u001b[0m\u001b[0;34m\u001b[0m\u001b[0m\n",
            "\u001b[0;32m/anaconda/envs/azureml_py36/lib/python3.6/site-packages/sklearn_pandas/dataframe_mapper.py\u001b[0m in \u001b[0;36mtransform\u001b[0;34m(self, X)\u001b[0m\n\u001b[1;32m    291\u001b[0m                 \u001b[0;32mwith\u001b[0m \u001b[0madd_column_names_to_exception\u001b[0m\u001b[0;34m(\u001b[0m\u001b[0mcolumns\u001b[0m\u001b[0;34m)\u001b[0m\u001b[0;34m:\u001b[0m\u001b[0;34m\u001b[0m\u001b[0;34m\u001b[0m\u001b[0m\n\u001b[0;32m--> 292\u001b[0;31m                     \u001b[0mXt\u001b[0m \u001b[0;34m=\u001b[0m \u001b[0mtransformers\u001b[0m\u001b[0;34m.\u001b[0m\u001b[0mtransform\u001b[0m\u001b[0;34m(\u001b[0m\u001b[0mXt\u001b[0m\u001b[0;34m)\u001b[0m\u001b[0;34m\u001b[0m\u001b[0;34m\u001b[0m\u001b[0m\n\u001b[0m\u001b[1;32m    293\u001b[0m             \u001b[0mextracted\u001b[0m\u001b[0;34m.\u001b[0m\u001b[0mappend\u001b[0m\u001b[0;34m(\u001b[0m\u001b[0m_handle_feature\u001b[0m\u001b[0;34m(\u001b[0m\u001b[0mXt\u001b[0m\u001b[0;34m)\u001b[0m\u001b[0;34m)\u001b[0m\u001b[0;34m\u001b[0m\u001b[0;34m\u001b[0m\u001b[0m\n",
            "\u001b[0;32m/anaconda/envs/azureml_py36/lib/python3.6/site-packages/sklearn/pipeline.py\u001b[0m in \u001b[0;36m_transform\u001b[0;34m(self, X)\u001b[0m\n\u001b[1;32m    556\u001b[0m         \u001b[0;32mfor\u001b[0m \u001b[0m_\u001b[0m\u001b[0;34m,\u001b[0m \u001b[0m_\u001b[0m\u001b[0;34m,\u001b[0m \u001b[0mtransform\u001b[0m \u001b[0;32min\u001b[0m \u001b[0mself\u001b[0m\u001b[0;34m.\u001b[0m\u001b[0m_iter\u001b[0m\u001b[0;34m(\u001b[0m\u001b[0;34m)\u001b[0m\u001b[0;34m:\u001b[0m\u001b[0;34m\u001b[0m\u001b[0;34m\u001b[0m\u001b[0m\n\u001b[0;32m--> 557\u001b[0;31m             \u001b[0mXt\u001b[0m \u001b[0;34m=\u001b[0m \u001b[0mtransform\u001b[0m\u001b[0;34m.\u001b[0m\u001b[0mtransform\u001b[0m\u001b[0;34m(\u001b[0m\u001b[0mXt\u001b[0m\u001b[0;34m)\u001b[0m\u001b[0;34m\u001b[0m\u001b[0;34m\u001b[0m\u001b[0m\n\u001b[0m\u001b[1;32m    558\u001b[0m         \u001b[0;32mreturn\u001b[0m \u001b[0mXt\u001b[0m\u001b[0;34m\u001b[0m\u001b[0;34m\u001b[0m\u001b[0m\n",
            "\u001b[0;32m/anaconda/envs/azureml_py36/lib/python3.6/site-packages/sklearn/feature_extraction/text.py\u001b[0m in \u001b[0;36mtransform\u001b[0;34m(self, raw_documents)\u001b[0m\n\u001b[1;32m   1269\u001b[0m         \u001b[0;31m# use the same matrix-building strategy as fit_transform\u001b[0m\u001b[0;34m\u001b[0m\u001b[0;34m\u001b[0m\u001b[0;34m\u001b[0m\u001b[0m\n\u001b[0;32m-> 1270\u001b[0;31m         \u001b[0m_\u001b[0m\u001b[0;34m,\u001b[0m \u001b[0mX\u001b[0m \u001b[0;34m=\u001b[0m \u001b[0mself\u001b[0m\u001b[0;34m.\u001b[0m\u001b[0m_count_vocab\u001b[0m\u001b[0;34m(\u001b[0m\u001b[0mraw_documents\u001b[0m\u001b[0;34m,\u001b[0m \u001b[0mfixed_vocab\u001b[0m\u001b[0;34m=\u001b[0m\u001b[0;32mTrue\u001b[0m\u001b[0;34m)\u001b[0m\u001b[0;34m\u001b[0m\u001b[0;34m\u001b[0m\u001b[0m\n\u001b[0m\u001b[1;32m   1271\u001b[0m         \u001b[0;32mif\u001b[0m \u001b[0mself\u001b[0m\u001b[0;34m.\u001b[0m\u001b[0mbinary\u001b[0m\u001b[0;34m:\u001b[0m\u001b[0;34m\u001b[0m\u001b[0;34m\u001b[0m\u001b[0m\n",
            "\u001b[0;32m/anaconda/envs/azureml_py36/lib/python3.6/site-packages/sklearn/feature_extraction/text.py\u001b[0m in \u001b[0;36m_count_vocab\u001b[0;34m(self, raw_documents, fixed_vocab)\u001b[0m\n\u001b[1;32m   1130\u001b[0m             \u001b[0mfeature_counter\u001b[0m \u001b[0;34m=\u001b[0m \u001b[0;34m{\u001b[0m\u001b[0;34m}\u001b[0m\u001b[0;34m\u001b[0m\u001b[0;34m\u001b[0m\u001b[0m\n\u001b[0;32m-> 1131\u001b[0;31m             \u001b[0;32mfor\u001b[0m \u001b[0mfeature\u001b[0m \u001b[0;32min\u001b[0m \u001b[0manalyze\u001b[0m\u001b[0;34m(\u001b[0m\u001b[0mdoc\u001b[0m\u001b[0;34m)\u001b[0m\u001b[0;34m:\u001b[0m\u001b[0;34m\u001b[0m\u001b[0;34m\u001b[0m\u001b[0m\n\u001b[0m\u001b[1;32m   1132\u001b[0m                 \u001b[0;32mtry\u001b[0m\u001b[0;34m:\u001b[0m\u001b[0;34m\u001b[0m\u001b[0;34m\u001b[0m\u001b[0m\n",
            "\u001b[0;32m/anaconda/envs/azureml_py36/lib/python3.6/site-packages/sklearn/feature_extraction/text.py\u001b[0m in \u001b[0;36m_analyze\u001b[0;34m(doc, analyzer, tokenizer, ngrams, preprocessor, decoder, stop_words)\u001b[0m\n\u001b[1;32m    104\u001b[0m         \u001b[0;32mif\u001b[0m \u001b[0mtokenizer\u001b[0m \u001b[0;32mis\u001b[0m \u001b[0;32mnot\u001b[0m \u001b[0;32mNone\u001b[0m\u001b[0;34m:\u001b[0m\u001b[0;34m\u001b[0m\u001b[0;34m\u001b[0m\u001b[0m\n\u001b[0;32m--> 105\u001b[0;31m             \u001b[0mdoc\u001b[0m \u001b[0;34m=\u001b[0m \u001b[0mtokenizer\u001b[0m\u001b[0;34m(\u001b[0m\u001b[0mdoc\u001b[0m\u001b[0;34m)\u001b[0m\u001b[0;34m\u001b[0m\u001b[0;34m\u001b[0m\u001b[0m\n\u001b[0m\u001b[1;32m    106\u001b[0m         \u001b[0;32mif\u001b[0m \u001b[0mngrams\u001b[0m \u001b[0;32mis\u001b[0m \u001b[0;32mnot\u001b[0m \u001b[0;32mNone\u001b[0m\u001b[0;34m:\u001b[0m\u001b[0;34m\u001b[0m\u001b[0;34m\u001b[0m\u001b[0m\n",
            "\u001b[0;31mTypeError\u001b[0m: Job: _wrap_in_lst() missing 1 required positional argument: 'x'",
            "\nDuring handling of the above exception, another exception occurred:\n",
            "\u001b[0;31mTransformException\u001b[0m                        Traceback (most recent call last)",
            "\u001b[0;32m<ipython-input-23-89a2eb5d9dc8>\u001b[0m in \u001b[0;36m<module>\u001b[0;34m\u001b[0m\n\u001b[1;32m      1\u001b[0m \u001b[0;31m# Try the best model\u001b[0m\u001b[0;34m\u001b[0m\u001b[0;34m\u001b[0m\u001b[0;34m\u001b[0m\u001b[0m\n\u001b[0;32m----> 2\u001b[0;31m \u001b[0my_predictions\u001b[0m \u001b[0;34m=\u001b[0m \u001b[0mfitted_model\u001b[0m\u001b[0;34m.\u001b[0m\u001b[0mpredict\u001b[0m\u001b[0;34m(\u001b[0m\u001b[0mx_test_df\u001b[0m\u001b[0;34m)\u001b[0m\u001b[0;34m\u001b[0m\u001b[0;34m\u001b[0m\u001b[0m\n\u001b[0m\u001b[1;32m      3\u001b[0m \u001b[0;34m\u001b[0m\u001b[0m\n\u001b[1;32m      4\u001b[0m \u001b[0mprint\u001b[0m\u001b[0;34m(\u001b[0m\u001b[0;34m'10 predictions: '\u001b[0m\u001b[0;34m)\u001b[0m\u001b[0;34m\u001b[0m\u001b[0;34m\u001b[0m\u001b[0m\n\u001b[1;32m      5\u001b[0m \u001b[0mprint\u001b[0m\u001b[0;34m(\u001b[0m\u001b[0my_predictions\u001b[0m\u001b[0;34m[\u001b[0m\u001b[0;34m:\u001b[0m\u001b[0;36m10\u001b[0m\u001b[0;34m]\u001b[0m\u001b[0;34m)\u001b[0m\u001b[0;34m\u001b[0m\u001b[0;34m\u001b[0m\u001b[0m\n",
            "\u001b[0;32m/anaconda/envs/azureml_py36/lib/python3.6/site-packages/azureml/automl/runtime/shared/model_wrappers.py\u001b[0m in \u001b[0;36mpredict\u001b[0;34m(self, X)\u001b[0m\n\u001b[1;32m   3862\u001b[0m         \"\"\"\n\u001b[1;32m   3863\u001b[0m         \u001b[0;32mtry\u001b[0m\u001b[0;34m:\u001b[0m\u001b[0;34m\u001b[0m\u001b[0;34m\u001b[0m\u001b[0m\n\u001b[0;32m-> 3864\u001b[0;31m             \u001b[0;32mreturn\u001b[0m \u001b[0mself\u001b[0m\u001b[0;34m.\u001b[0m\u001b[0my_transformer\u001b[0m\u001b[0;34m.\u001b[0m\u001b[0minverse_transform\u001b[0m\u001b[0;34m(\u001b[0m\u001b[0mself\u001b[0m\u001b[0;34m.\u001b[0m\u001b[0mpipeline\u001b[0m\u001b[0;34m.\u001b[0m\u001b[0mpredict\u001b[0m\u001b[0;34m(\u001b[0m\u001b[0mX\u001b[0m\u001b[0;34m)\u001b[0m\u001b[0;34m)\u001b[0m\u001b[0;34m\u001b[0m\u001b[0;34m\u001b[0m\u001b[0m\n\u001b[0m\u001b[1;32m   3865\u001b[0m         \u001b[0;32mexcept\u001b[0m \u001b[0mAutoMLException\u001b[0m\u001b[0;34m:\u001b[0m\u001b[0;34m\u001b[0m\u001b[0;34m\u001b[0m\u001b[0m\n\u001b[1;32m   3866\u001b[0m             \u001b[0;32mraise\u001b[0m\u001b[0;34m\u001b[0m\u001b[0;34m\u001b[0m\u001b[0m\n",
            "\u001b[0;32m/anaconda/envs/azureml_py36/lib/python3.6/site-packages/sklearn/utils/metaestimators.py\u001b[0m in \u001b[0;36m<lambda>\u001b[0;34m(*args, **kwargs)\u001b[0m\n\u001b[1;32m    114\u001b[0m \u001b[0;34m\u001b[0m\u001b[0m\n\u001b[1;32m    115\u001b[0m         \u001b[0;31m# lambda, but not partial, allows help() to work with update_wrapper\u001b[0m\u001b[0;34m\u001b[0m\u001b[0;34m\u001b[0m\u001b[0;34m\u001b[0m\u001b[0m\n\u001b[0;32m--> 116\u001b[0;31m         \u001b[0mout\u001b[0m \u001b[0;34m=\u001b[0m \u001b[0;32mlambda\u001b[0m \u001b[0;34m*\u001b[0m\u001b[0margs\u001b[0m\u001b[0;34m,\u001b[0m \u001b[0;34m**\u001b[0m\u001b[0mkwargs\u001b[0m\u001b[0;34m:\u001b[0m \u001b[0mself\u001b[0m\u001b[0;34m.\u001b[0m\u001b[0mfn\u001b[0m\u001b[0;34m(\u001b[0m\u001b[0mobj\u001b[0m\u001b[0;34m,\u001b[0m \u001b[0;34m*\u001b[0m\u001b[0margs\u001b[0m\u001b[0;34m,\u001b[0m \u001b[0;34m**\u001b[0m\u001b[0mkwargs\u001b[0m\u001b[0;34m)\u001b[0m\u001b[0;34m\u001b[0m\u001b[0;34m\u001b[0m\u001b[0m\n\u001b[0m\u001b[1;32m    117\u001b[0m         \u001b[0;31m# update the docstring of the returned function\u001b[0m\u001b[0;34m\u001b[0m\u001b[0;34m\u001b[0m\u001b[0;34m\u001b[0m\u001b[0m\n\u001b[1;32m    118\u001b[0m         \u001b[0mupdate_wrapper\u001b[0m\u001b[0;34m(\u001b[0m\u001b[0mout\u001b[0m\u001b[0;34m,\u001b[0m \u001b[0mself\u001b[0m\u001b[0;34m.\u001b[0m\u001b[0mfn\u001b[0m\u001b[0;34m)\u001b[0m\u001b[0;34m\u001b[0m\u001b[0;34m\u001b[0m\u001b[0m\n",
            "\u001b[0;32m/anaconda/envs/azureml_py36/lib/python3.6/site-packages/sklearn/pipeline.py\u001b[0m in \u001b[0;36mpredict\u001b[0;34m(self, X, **predict_params)\u001b[0m\n\u001b[1;32m    417\u001b[0m         \u001b[0mXt\u001b[0m \u001b[0;34m=\u001b[0m \u001b[0mX\u001b[0m\u001b[0;34m\u001b[0m\u001b[0;34m\u001b[0m\u001b[0m\n\u001b[1;32m    418\u001b[0m         \u001b[0;32mfor\u001b[0m \u001b[0m_\u001b[0m\u001b[0;34m,\u001b[0m \u001b[0mname\u001b[0m\u001b[0;34m,\u001b[0m \u001b[0mtransform\u001b[0m \u001b[0;32min\u001b[0m \u001b[0mself\u001b[0m\u001b[0;34m.\u001b[0m\u001b[0m_iter\u001b[0m\u001b[0;34m(\u001b[0m\u001b[0mwith_final\u001b[0m\u001b[0;34m=\u001b[0m\u001b[0;32mFalse\u001b[0m\u001b[0;34m)\u001b[0m\u001b[0;34m:\u001b[0m\u001b[0;34m\u001b[0m\u001b[0;34m\u001b[0m\u001b[0m\n\u001b[0;32m--> 419\u001b[0;31m             \u001b[0mXt\u001b[0m \u001b[0;34m=\u001b[0m \u001b[0mtransform\u001b[0m\u001b[0;34m.\u001b[0m\u001b[0mtransform\u001b[0m\u001b[0;34m(\u001b[0m\u001b[0mXt\u001b[0m\u001b[0;34m)\u001b[0m\u001b[0;34m\u001b[0m\u001b[0;34m\u001b[0m\u001b[0m\n\u001b[0m\u001b[1;32m    420\u001b[0m         \u001b[0;32mreturn\u001b[0m \u001b[0mself\u001b[0m\u001b[0;34m.\u001b[0m\u001b[0msteps\u001b[0m\u001b[0;34m[\u001b[0m\u001b[0;34m-\u001b[0m\u001b[0;36m1\u001b[0m\u001b[0;34m]\u001b[0m\u001b[0;34m[\u001b[0m\u001b[0;34m-\u001b[0m\u001b[0;36m1\u001b[0m\u001b[0;34m]\u001b[0m\u001b[0;34m.\u001b[0m\u001b[0mpredict\u001b[0m\u001b[0;34m(\u001b[0m\u001b[0mXt\u001b[0m\u001b[0;34m,\u001b[0m \u001b[0;34m**\u001b[0m\u001b[0mpredict_params\u001b[0m\u001b[0;34m)\u001b[0m\u001b[0;34m\u001b[0m\u001b[0;34m\u001b[0m\u001b[0m\n\u001b[1;32m    421\u001b[0m \u001b[0;34m\u001b[0m\u001b[0m\n",
            "\u001b[0;32m/anaconda/envs/azureml_py36/lib/python3.6/site-packages/azureml/automl/core/shared/logging_utilities.py\u001b[0m in \u001b[0;36mdebug_log_wrapped\u001b[0;34m(self, *args, **kwargs)\u001b[0m\n\u001b[1;32m    300\u001b[0m         \u001b[0;32mdef\u001b[0m \u001b[0mdebug_log_wrapped\u001b[0m\u001b[0;34m(\u001b[0m\u001b[0mself\u001b[0m\u001b[0;34m:\u001b[0m \u001b[0mAny\u001b[0m\u001b[0;34m,\u001b[0m \u001b[0;34m*\u001b[0m\u001b[0margs\u001b[0m\u001b[0;34m:\u001b[0m \u001b[0mAny\u001b[0m\u001b[0;34m,\u001b[0m \u001b[0;34m**\u001b[0m\u001b[0mkwargs\u001b[0m\u001b[0;34m:\u001b[0m \u001b[0mAny\u001b[0m\u001b[0;34m)\u001b[0m \u001b[0;34m->\u001b[0m \u001b[0mAny\u001b[0m\u001b[0;34m:\u001b[0m\u001b[0;34m\u001b[0m\u001b[0;34m\u001b[0m\u001b[0m\n\u001b[1;32m    301\u001b[0m             \u001b[0mself\u001b[0m\u001b[0;34m.\u001b[0m\u001b[0m_logger_wrapper\u001b[0m\u001b[0;34m(\u001b[0m\u001b[0mlog_level\u001b[0m\u001b[0;34m,\u001b[0m \u001b[0;34m\"Starting {} operation of {}.\"\u001b[0m\u001b[0;34m.\u001b[0m\u001b[0mformat\u001b[0m\u001b[0;34m(\u001b[0m\u001b[0mf\u001b[0m\u001b[0;34m.\u001b[0m\u001b[0m__name__\u001b[0m\u001b[0;34m,\u001b[0m \u001b[0mself\u001b[0m\u001b[0;34m.\u001b[0m\u001b[0m__class__\u001b[0m\u001b[0;34m.\u001b[0m\u001b[0m__name__\u001b[0m\u001b[0;34m)\u001b[0m\u001b[0;34m)\u001b[0m\u001b[0;34m\u001b[0m\u001b[0;34m\u001b[0m\u001b[0m\n\u001b[0;32m--> 302\u001b[0;31m             \u001b[0mr\u001b[0m \u001b[0;34m=\u001b[0m \u001b[0mf\u001b[0m\u001b[0;34m(\u001b[0m\u001b[0mself\u001b[0m\u001b[0;34m,\u001b[0m \u001b[0;34m*\u001b[0m\u001b[0margs\u001b[0m\u001b[0;34m,\u001b[0m \u001b[0;34m**\u001b[0m\u001b[0mkwargs\u001b[0m\u001b[0;34m)\u001b[0m\u001b[0;34m\u001b[0m\u001b[0;34m\u001b[0m\u001b[0m\n\u001b[0m\u001b[1;32m    303\u001b[0m             \u001b[0mself\u001b[0m\u001b[0;34m.\u001b[0m\u001b[0m_logger_wrapper\u001b[0m\u001b[0;34m(\u001b[0m\u001b[0mlog_level\u001b[0m\u001b[0;34m,\u001b[0m \u001b[0;34m\"{} {} operation complete.\"\u001b[0m\u001b[0;34m.\u001b[0m\u001b[0mformat\u001b[0m\u001b[0;34m(\u001b[0m\u001b[0mself\u001b[0m\u001b[0;34m.\u001b[0m\u001b[0m__class__\u001b[0m\u001b[0;34m.\u001b[0m\u001b[0m__name__\u001b[0m\u001b[0;34m,\u001b[0m \u001b[0mf\u001b[0m\u001b[0;34m.\u001b[0m\u001b[0m__name__\u001b[0m\u001b[0;34m)\u001b[0m\u001b[0;34m)\u001b[0m\u001b[0;34m\u001b[0m\u001b[0;34m\u001b[0m\u001b[0m\n\u001b[1;32m    304\u001b[0m             \u001b[0;32mreturn\u001b[0m \u001b[0mr\u001b[0m\u001b[0;34m\u001b[0m\u001b[0;34m\u001b[0m\u001b[0m\n",
            "\u001b[0;32m/anaconda/envs/azureml_py36/lib/python3.6/site-packages/azureml/automl/runtime/featurization/data_transformer.py\u001b[0m in \u001b[0;36mtransform\u001b[0;34m(self, df)\u001b[0m\n\u001b[1;32m    445\u001b[0m                 \u001b[0mtarget\u001b[0m\u001b[0;34m=\u001b[0m\u001b[0;34m'DataTransformer.transform'\u001b[0m\u001b[0;34m,\u001b[0m\u001b[0;34m\u001b[0m\u001b[0;34m\u001b[0m\u001b[0m\n\u001b[1;32m    446\u001b[0m                 \u001b[0mreference_code\u001b[0m\u001b[0;34m=\u001b[0m\u001b[0mReferenceCodes\u001b[0m\u001b[0;34m.\u001b[0m\u001b[0m_DATA_TRANSFORMER_TRANSFROM_LEARNED\u001b[0m\u001b[0;34m,\u001b[0m\u001b[0;34m\u001b[0m\u001b[0;34m\u001b[0m\u001b[0m\n\u001b[0;32m--> 447\u001b[0;31m                 has_pii=False)\n\u001b[0m\u001b[1;32m    448\u001b[0m \u001b[0;34m\u001b[0m\u001b[0m\n\u001b[1;32m    449\u001b[0m         \u001b[0;32mif\u001b[0m \u001b[0mself\u001b[0m\u001b[0;34m.\u001b[0m\u001b[0m_engineered_feature_names_class\u001b[0m \u001b[0;32mis\u001b[0m \u001b[0;32mnot\u001b[0m \u001b[0;32mNone\u001b[0m\u001b[0;34m:\u001b[0m\u001b[0;34m\u001b[0m\u001b[0;34m\u001b[0m\u001b[0m\n",
            "\u001b[0;32m/anaconda/envs/azureml_py36/lib/python3.6/site-packages/azureml/automl/runtime/featurization/data_transformer.py\u001b[0m in \u001b[0;36mtransform\u001b[0;34m(self, df)\u001b[0m\n\u001b[1;32m    429\u001b[0m         \u001b[0mfeatures\u001b[0m \u001b[0;34m=\u001b[0m \u001b[0;34m[\u001b[0m\u001b[0;34m]\u001b[0m   \u001b[0;31m# type: List[Any]\u001b[0m\u001b[0;34m\u001b[0m\u001b[0;34m\u001b[0m\u001b[0m\n\u001b[1;32m    430\u001b[0m         \u001b[0;32mtry\u001b[0m\u001b[0;34m:\u001b[0m\u001b[0;34m\u001b[0m\u001b[0;34m\u001b[0m\u001b[0m\n\u001b[0;32m--> 431\u001b[0;31m             \u001b[0mfeatures\u001b[0m \u001b[0;34m=\u001b[0m \u001b[0mself\u001b[0m\u001b[0;34m.\u001b[0m\u001b[0m_apply_transforms\u001b[0m\u001b[0;34m(\u001b[0m\u001b[0mdf\u001b[0m\u001b[0;34m)\u001b[0m\u001b[0;34m\u001b[0m\u001b[0;34m\u001b[0m\u001b[0m\n\u001b[0m\u001b[1;32m    432\u001b[0m         \u001b[0;32mexcept\u001b[0m \u001b[0mAutoMLException\u001b[0m\u001b[0;34m:\u001b[0m\u001b[0;34m\u001b[0m\u001b[0;34m\u001b[0m\u001b[0m\n\u001b[1;32m    433\u001b[0m             \u001b[0;32mraise\u001b[0m\u001b[0;34m\u001b[0m\u001b[0;34m\u001b[0m\u001b[0m\n",
            "\u001b[0;32m/anaconda/envs/azureml_py36/lib/python3.6/site-packages/azureml/automl/runtime/featurization/data_transformer.py\u001b[0m in \u001b[0;36m_apply_transforms\u001b[0;34m(self, df)\u001b[0m\n\u001b[1;32m    534\u001b[0m                         \"info\", \"{}: Applying transform.\".format(transformer_names))\n\u001b[1;32m    535\u001b[0m                     \u001b[0;32mtry\u001b[0m\u001b[0;34m:\u001b[0m\u001b[0;34m\u001b[0m\u001b[0;34m\u001b[0m\u001b[0m\n\u001b[0;32m--> 536\u001b[0;31m                         \u001b[0mtransform_output\u001b[0m \u001b[0;34m=\u001b[0m \u001b[0mtransformer_mapper\u001b[0m\u001b[0;34m.\u001b[0m\u001b[0mmapper\u001b[0m\u001b[0;34m.\u001b[0m\u001b[0mtransform\u001b[0m\u001b[0;34m(\u001b[0m\u001b[0mdf\u001b[0m\u001b[0;34m)\u001b[0m\u001b[0;34m\u001b[0m\u001b[0;34m\u001b[0m\u001b[0m\n\u001b[0m\u001b[1;32m    537\u001b[0m                         \u001b[0mfeatures\u001b[0m\u001b[0;34m.\u001b[0m\u001b[0mappend\u001b[0m\u001b[0;34m(\u001b[0m\u001b[0mtransform_output\u001b[0m\u001b[0;34m)\u001b[0m\u001b[0;34m\u001b[0m\u001b[0;34m\u001b[0m\u001b[0m\n\u001b[1;32m    538\u001b[0m                     \u001b[0;32mexcept\u001b[0m \u001b[0mException\u001b[0m \u001b[0;32mas\u001b[0m \u001b[0mex\u001b[0m\u001b[0;34m:\u001b[0m\u001b[0;34m\u001b[0m\u001b[0;34m\u001b[0m\u001b[0m\n",
            "\u001b[0;32m/anaconda/envs/azureml_py36/lib/python3.6/site-packages/sklearn_pandas/dataframe_mapper.py\u001b[0m in \u001b[0;36mtransform\u001b[0;34m(self, X)\u001b[0m\n\u001b[1;32m    290\u001b[0m             \u001b[0;32mif\u001b[0m \u001b[0mtransformers\u001b[0m \u001b[0;32mis\u001b[0m \u001b[0;32mnot\u001b[0m \u001b[0;32mNone\u001b[0m\u001b[0;34m:\u001b[0m\u001b[0;34m\u001b[0m\u001b[0;34m\u001b[0m\u001b[0m\n\u001b[1;32m    291\u001b[0m                 \u001b[0;32mwith\u001b[0m \u001b[0madd_column_names_to_exception\u001b[0m\u001b[0;34m(\u001b[0m\u001b[0mcolumns\u001b[0m\u001b[0;34m)\u001b[0m\u001b[0;34m:\u001b[0m\u001b[0;34m\u001b[0m\u001b[0;34m\u001b[0m\u001b[0m\n\u001b[0;32m--> 292\u001b[0;31m                     \u001b[0mXt\u001b[0m \u001b[0;34m=\u001b[0m \u001b[0mtransformers\u001b[0m\u001b[0;34m.\u001b[0m\u001b[0mtransform\u001b[0m\u001b[0;34m(\u001b[0m\u001b[0mXt\u001b[0m\u001b[0;34m)\u001b[0m\u001b[0;34m\u001b[0m\u001b[0;34m\u001b[0m\u001b[0m\n\u001b[0m\u001b[1;32m    293\u001b[0m             \u001b[0mextracted\u001b[0m\u001b[0;34m.\u001b[0m\u001b[0mappend\u001b[0m\u001b[0;34m(\u001b[0m\u001b[0m_handle_feature\u001b[0m\u001b[0;34m(\u001b[0m\u001b[0mXt\u001b[0m\u001b[0;34m)\u001b[0m\u001b[0;34m)\u001b[0m\u001b[0;34m\u001b[0m\u001b[0;34m\u001b[0m\u001b[0m\n\u001b[1;32m    294\u001b[0m \u001b[0;34m\u001b[0m\u001b[0m\n",
            "\u001b[0;32m/anaconda/envs/azureml_py36/lib/python3.6/site-packages/sklearn/pipeline.py\u001b[0m in \u001b[0;36m_transform\u001b[0;34m(self, X)\u001b[0m\n\u001b[1;32m    555\u001b[0m         \u001b[0mXt\u001b[0m \u001b[0;34m=\u001b[0m \u001b[0mX\u001b[0m\u001b[0;34m\u001b[0m\u001b[0;34m\u001b[0m\u001b[0m\n\u001b[1;32m    556\u001b[0m         \u001b[0;32mfor\u001b[0m \u001b[0m_\u001b[0m\u001b[0;34m,\u001b[0m \u001b[0m_\u001b[0m\u001b[0;34m,\u001b[0m \u001b[0mtransform\u001b[0m \u001b[0;32min\u001b[0m \u001b[0mself\u001b[0m\u001b[0;34m.\u001b[0m\u001b[0m_iter\u001b[0m\u001b[0;34m(\u001b[0m\u001b[0;34m)\u001b[0m\u001b[0;34m:\u001b[0m\u001b[0;34m\u001b[0m\u001b[0;34m\u001b[0m\u001b[0m\n\u001b[0;32m--> 557\u001b[0;31m             \u001b[0mXt\u001b[0m \u001b[0;34m=\u001b[0m \u001b[0mtransform\u001b[0m\u001b[0;34m.\u001b[0m\u001b[0mtransform\u001b[0m\u001b[0;34m(\u001b[0m\u001b[0mXt\u001b[0m\u001b[0;34m)\u001b[0m\u001b[0;34m\u001b[0m\u001b[0;34m\u001b[0m\u001b[0m\n\u001b[0m\u001b[1;32m    558\u001b[0m         \u001b[0;32mreturn\u001b[0m \u001b[0mXt\u001b[0m\u001b[0;34m\u001b[0m\u001b[0;34m\u001b[0m\u001b[0m\n\u001b[1;32m    559\u001b[0m \u001b[0;34m\u001b[0m\u001b[0m\n",
            "\u001b[0;32m/anaconda/envs/azureml_py36/lib/python3.6/site-packages/sklearn/feature_extraction/text.py\u001b[0m in \u001b[0;36mtransform\u001b[0;34m(self, raw_documents)\u001b[0m\n\u001b[1;32m   1268\u001b[0m \u001b[0;34m\u001b[0m\u001b[0m\n\u001b[1;32m   1269\u001b[0m         \u001b[0;31m# use the same matrix-building strategy as fit_transform\u001b[0m\u001b[0;34m\u001b[0m\u001b[0;34m\u001b[0m\u001b[0;34m\u001b[0m\u001b[0m\n\u001b[0;32m-> 1270\u001b[0;31m         \u001b[0m_\u001b[0m\u001b[0;34m,\u001b[0m \u001b[0mX\u001b[0m \u001b[0;34m=\u001b[0m \u001b[0mself\u001b[0m\u001b[0;34m.\u001b[0m\u001b[0m_count_vocab\u001b[0m\u001b[0;34m(\u001b[0m\u001b[0mraw_documents\u001b[0m\u001b[0;34m,\u001b[0m \u001b[0mfixed_vocab\u001b[0m\u001b[0;34m=\u001b[0m\u001b[0;32mTrue\u001b[0m\u001b[0;34m)\u001b[0m\u001b[0;34m\u001b[0m\u001b[0;34m\u001b[0m\u001b[0m\n\u001b[0m\u001b[1;32m   1271\u001b[0m         \u001b[0;32mif\u001b[0m \u001b[0mself\u001b[0m\u001b[0;34m.\u001b[0m\u001b[0mbinary\u001b[0m\u001b[0;34m:\u001b[0m\u001b[0;34m\u001b[0m\u001b[0;34m\u001b[0m\u001b[0m\n\u001b[1;32m   1272\u001b[0m             \u001b[0mX\u001b[0m\u001b[0;34m.\u001b[0m\u001b[0mdata\u001b[0m\u001b[0;34m.\u001b[0m\u001b[0mfill\u001b[0m\u001b[0;34m(\u001b[0m\u001b[0;36m1\u001b[0m\u001b[0;34m)\u001b[0m\u001b[0;34m\u001b[0m\u001b[0;34m\u001b[0m\u001b[0m\n",
            "\u001b[0;32m/anaconda/envs/azureml_py36/lib/python3.6/site-packages/sklearn/feature_extraction/text.py\u001b[0m in \u001b[0;36m_count_vocab\u001b[0;34m(self, raw_documents, fixed_vocab)\u001b[0m\n\u001b[1;32m   1129\u001b[0m         \u001b[0;32mfor\u001b[0m \u001b[0mdoc\u001b[0m \u001b[0;32min\u001b[0m \u001b[0mraw_documents\u001b[0m\u001b[0;34m:\u001b[0m\u001b[0;34m\u001b[0m\u001b[0;34m\u001b[0m\u001b[0m\n\u001b[1;32m   1130\u001b[0m             \u001b[0mfeature_counter\u001b[0m \u001b[0;34m=\u001b[0m \u001b[0;34m{\u001b[0m\u001b[0;34m}\u001b[0m\u001b[0;34m\u001b[0m\u001b[0;34m\u001b[0m\u001b[0m\n\u001b[0;32m-> 1131\u001b[0;31m             \u001b[0;32mfor\u001b[0m \u001b[0mfeature\u001b[0m \u001b[0;32min\u001b[0m \u001b[0manalyze\u001b[0m\u001b[0;34m(\u001b[0m\u001b[0mdoc\u001b[0m\u001b[0;34m)\u001b[0m\u001b[0;34m:\u001b[0m\u001b[0;34m\u001b[0m\u001b[0;34m\u001b[0m\u001b[0m\n\u001b[0m\u001b[1;32m   1132\u001b[0m                 \u001b[0;32mtry\u001b[0m\u001b[0;34m:\u001b[0m\u001b[0;34m\u001b[0m\u001b[0;34m\u001b[0m\u001b[0m\n\u001b[1;32m   1133\u001b[0m                     \u001b[0mfeature_idx\u001b[0m \u001b[0;34m=\u001b[0m \u001b[0mvocabulary\u001b[0m\u001b[0;34m[\u001b[0m\u001b[0mfeature\u001b[0m\u001b[0;34m]\u001b[0m\u001b[0;34m\u001b[0m\u001b[0;34m\u001b[0m\u001b[0m\n",
            "\u001b[0;32m/anaconda/envs/azureml_py36/lib/python3.6/site-packages/sklearn/feature_extraction/text.py\u001b[0m in \u001b[0;36m_analyze\u001b[0;34m(doc, analyzer, tokenizer, ngrams, preprocessor, decoder, stop_words)\u001b[0m\n\u001b[1;32m    103\u001b[0m             \u001b[0mdoc\u001b[0m \u001b[0;34m=\u001b[0m \u001b[0mpreprocessor\u001b[0m\u001b[0;34m(\u001b[0m\u001b[0mdoc\u001b[0m\u001b[0;34m)\u001b[0m\u001b[0;34m\u001b[0m\u001b[0;34m\u001b[0m\u001b[0m\n\u001b[1;32m    104\u001b[0m         \u001b[0;32mif\u001b[0m \u001b[0mtokenizer\u001b[0m \u001b[0;32mis\u001b[0m \u001b[0;32mnot\u001b[0m \u001b[0;32mNone\u001b[0m\u001b[0;34m:\u001b[0m\u001b[0;34m\u001b[0m\u001b[0;34m\u001b[0m\u001b[0m\n\u001b[0;32m--> 105\u001b[0;31m             \u001b[0mdoc\u001b[0m \u001b[0;34m=\u001b[0m \u001b[0mtokenizer\u001b[0m\u001b[0;34m(\u001b[0m\u001b[0mdoc\u001b[0m\u001b[0;34m)\u001b[0m\u001b[0;34m\u001b[0m\u001b[0;34m\u001b[0m\u001b[0m\n\u001b[0m\u001b[1;32m    106\u001b[0m         \u001b[0;32mif\u001b[0m \u001b[0mngrams\u001b[0m \u001b[0;32mis\u001b[0m \u001b[0;32mnot\u001b[0m \u001b[0;32mNone\u001b[0m\u001b[0;34m:\u001b[0m\u001b[0;34m\u001b[0m\u001b[0;34m\u001b[0m\u001b[0m\n\u001b[1;32m    107\u001b[0m             \u001b[0;32mif\u001b[0m \u001b[0mstop_words\u001b[0m \u001b[0;32mis\u001b[0m \u001b[0;32mnot\u001b[0m \u001b[0;32mNone\u001b[0m\u001b[0;34m:\u001b[0m\u001b[0;34m\u001b[0m\u001b[0;34m\u001b[0m\u001b[0m\n",
            "\u001b[0;31mTransformException\u001b[0m: TransformException:\n\tMessage: Failed while applying learned transformations.\n\tInnerException: TypeError: Job: _wrap_in_lst() missing 1 required positional argument: 'x'\n\tErrorResponse \n{\n    \"error\": {\n        \"code\": \"System\",\n        \"inner_error\": {\n            \"code\": \"Transform\"\n        },\n        \"message\": \"Failed while applying learned transformations.\",\n        \"target\": \"DataTransformer.transform\",\n        \"reference_code\": \"e5bbc77b-2264-418d-bdb3-39ea0f09eae8\"\n    }\n}"
          ]
        }
      ],
      "execution_count": 23,
      "metadata": {}
    },
    {
      "cell_type": "code",
      "source": [
        "y_predictions.shape"
      ],
      "outputs": [],
      "execution_count": null,
      "metadata": {}
    },
    {
      "cell_type": "markdown",
      "source": [
        "### Calculate the Accuracy with Test Dataset (Not used for training)"
      ],
      "metadata": {}
    },
    {
      "cell_type": "code",
      "source": [
        "from sklearn.metrics import accuracy_score\n",
        "\n",
        "print('Accuracy:')\n",
        "accuracy_score(y_test_df, y_predictions)"
      ],
      "outputs": [
        {
          "output_type": "stream",
          "name": "stdout",
          "text": [
            "Accuracy:\n"
          ]
        },
        {
          "output_type": "error",
          "ename": "NameError",
          "evalue": "name 'y_predictions' is not defined",
          "traceback": [
            "\u001b[0;31m---------------------------------------------------------------------------\u001b[0m",
            "\u001b[0;31mNameError\u001b[0m                                 Traceback (most recent call last)",
            "\u001b[0;32m<ipython-input-25-80f057a017a5>\u001b[0m in \u001b[0;36m<module>\u001b[0;34m\u001b[0m\n\u001b[1;32m      2\u001b[0m \u001b[0;34m\u001b[0m\u001b[0m\n\u001b[1;32m      3\u001b[0m \u001b[0mprint\u001b[0m\u001b[0;34m(\u001b[0m\u001b[0;34m'Accuracy:'\u001b[0m\u001b[0;34m)\u001b[0m\u001b[0;34m\u001b[0m\u001b[0;34m\u001b[0m\u001b[0m\n\u001b[0;32m----> 4\u001b[0;31m \u001b[0maccuracy_score\u001b[0m\u001b[0;34m(\u001b[0m\u001b[0my_test_df\u001b[0m\u001b[0;34m,\u001b[0m \u001b[0my_predictions\u001b[0m\u001b[0;34m)\u001b[0m\u001b[0;34m\u001b[0m\u001b[0;34m\u001b[0m\u001b[0m\n\u001b[0m",
            "\u001b[0;31mNameError\u001b[0m: name 'y_predictions' is not defined"
          ]
        }
      ],
      "execution_count": 25,
      "metadata": {}
    },
    {
      "cell_type": "code",
      "source": [],
      "outputs": [],
      "execution_count": null,
      "metadata": {}
    }
  ],
  "metadata": {
    "kernelspec": {
      "name": "python3-azureml",
      "language": "python",
      "display_name": "Python 3.6 - AzureML"
    },
    "language_info": {
      "name": "python",
      "version": "3.6.9",
      "mimetype": "text/x-python",
      "codemirror_mode": {
        "name": "ipython",
        "version": 3
      },
      "pygments_lexer": "ipython3",
      "nbconvert_exporter": "python",
      "file_extension": ".py"
    },
    "kernel_info": {
      "name": "python3-azureml"
    },
    "nteract": {
      "version": "nteract-front-end@1.0.0"
    }
  },
  "nbformat": 4,
  "nbformat_minor": 4
}